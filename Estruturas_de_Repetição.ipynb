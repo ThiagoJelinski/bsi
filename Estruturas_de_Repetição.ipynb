{
  "nbformat": 4,
  "nbformat_minor": 0,
  "metadata": {
    "colab": {
      "provenance": [],
      "authorship_tag": "ABX9TyPJuRQJ2p2tAhPaWPje8yYc",
      "include_colab_link": true
    },
    "kernelspec": {
      "name": "python3",
      "display_name": "Python 3"
    },
    "language_info": {
      "name": "python"
    }
  },
  "cells": [
    {
      "cell_type": "markdown",
      "metadata": {
        "id": "view-in-github",
        "colab_type": "text"
      },
      "source": [
        "<a href=\"https://colab.research.google.com/github/ThiagoJelinski/bsi/blob/master/Estruturas_de_Repeti%C3%A7%C3%A3o.ipynb\" target=\"_parent\"><img src=\"https://colab.research.google.com/assets/colab-badge.svg\" alt=\"Open In Colab\"/></a>"
      ]
    },
    {
      "cell_type": "markdown",
      "source": [
        "Faça um algoritmo que:\n",
        "\n",
        "• leia 20 números inteiros;\n",
        "\n",
        "• escreva os números que são negativos;\n",
        "\n",
        "\n",
        "• escreva a média dos números positivos."
      ],
      "metadata": {
        "id": "yO0CqkZlye2Z"
      }
    },
    {
      "cell_type": "code",
      "execution_count": null,
      "metadata": {
        "colab": {
          "base_uri": "https://localhost:8080/"
        },
        "id": "6_Man5C1yZmo",
        "outputId": "638aaa03-cd64-4271-811c-36ebfe2a37b7"
      },
      "outputs": [
        {
          "output_type": "stream",
          "name": "stdout",
          "text": [
            "Digite um valor: 5\n",
            "Esse numero é positivo!\n",
            "Digite um valor: 3\n",
            "Esse numero é positivo!\n",
            "Digite um valor: 4\n",
            "Esse numero é positivo!\n",
            "Digite um valor: -1\n",
            "Esse numero é negativo!\n",
            "Digite um valor: -6\n",
            "Esse numero é negativo!\n",
            "Digite um valor: 40\n",
            "Esse numero é positivo!\n",
            "A media dos numeros positivos é 13.0\n"
          ]
        }
      ],
      "source": [
        "media = []\n",
        "for i in range(6):\n",
        "  num = int(input(\"Digite um valor: \"))\n",
        "  if num < 0:\n",
        "    print(\"Esse numero é negativo!\")\n",
        "  else:\n",
        "    media.append(num)\n",
        "    print(\"Esse numero é positivo!\")\n",
        "print(f\"A media dos numeros positivos é {sum(media)/len(media)}\")"
      ]
    },
    {
      "cell_type": "markdown",
      "source": [
        "Faça um algoritmo que leia 15 números inteiros e escreva, para cada número lido, se é\n",
        "par ou ímpar."
      ],
      "metadata": {
        "id": "LcVI8qej4Woi"
      }
    },
    {
      "cell_type": "code",
      "source": [
        "for i in range(6):\n",
        "  num = int(input(\"Digite um numero: \"))\n",
        "  if num % 2 == 0:\n",
        "    print(f\"{num} é par!\")\n",
        "  else:\n",
        "    print(f\"{num} é impar!\")"
      ],
      "metadata": {
        "colab": {
          "base_uri": "https://localhost:8080/"
        },
        "id": "TDmMfWla4a8x",
        "outputId": "cf6311dd-1833-4735-e5f8-4518c59e6065"
      },
      "execution_count": null,
      "outputs": [
        {
          "output_type": "stream",
          "name": "stdout",
          "text": [
            "Digite um numero: 1\n",
            "1é impar!\n",
            "Digite um numero: 3\n",
            "3é impar!\n",
            "Digite um numero: 5\n",
            "5é impar!\n",
            "Digite um numero: 6\n",
            "6 é par!\n",
            "Digite um numero: 10\n",
            "10 é par!\n",
            "Digite um numero: 80\n",
            "80 é par!\n"
          ]
        }
      ]
    },
    {
      "cell_type": "markdown",
      "source": [
        "Faça um algoritmo que calcule e escreva a soma dos números pares e a soma dos\n",
        "números ímpares entre 1 e 100."
      ],
      "metadata": {
        "id": "24Cl9kG67amP"
      }
    },
    {
      "cell_type": "code",
      "source": [
        "impar = []\n",
        "par = []\n",
        "for num in range(101):\n",
        "  if num % 2 == 0:\n",
        "    par.append(num)\n",
        "  else:\n",
        "    impar.append(num)\n",
        "\n",
        "print(f\"A soma dos numeros par é {sum(par)}\\nA soma dos numeros impares é {sum(impar)}\")\n",
        "  "
      ],
      "metadata": {
        "colab": {
          "base_uri": "https://localhost:8080/"
        },
        "id": "zAc3Sus87ayx",
        "outputId": "06572341-c004-470a-82f0-8756f6d083b1"
      },
      "execution_count": null,
      "outputs": [
        {
          "output_type": "stream",
          "name": "stdout",
          "text": [
            "A soma dos numeros par é 2550\n",
            "A soma dos numeros impares é 2500\n"
          ]
        }
      ]
    },
    {
      "cell_type": "markdown",
      "source": [
        "Faça um algoritmo que leia a altura de 20 pessoas e calcule a média aritmética das\n",
        "alturas."
      ],
      "metadata": {
        "id": "Kbyrz6Ts9qTp"
      }
    },
    {
      "cell_type": "code",
      "source": [
        "alturas = []\n",
        "for altura in range(21):\n",
        "  altura = float(input(\"Digite sua altura: \"))\n",
        "  alturas.append(altura)\n",
        "print(f\"A media das alturas é {sum(alturas) / len(alturas)}\")  "
      ],
      "metadata": {
        "id": "X5uii8Cq9q1S"
      },
      "execution_count": null,
      "outputs": []
    },
    {
      "cell_type": "markdown",
      "source": [
        "Faça um algoritmo que leia n valores inteiros e escreva quantos desses valores são\n",
        "negativos."
      ],
      "metadata": {
        "id": "3alETRzu-m5s"
      }
    },
    {
      "cell_type": "code",
      "source": [
        "num_maior = int(input(\"Digite maior numero: \"))\n",
        "num_menor = int(input(\"Digite menor numero: \"))\n",
        "for num in range(num_menor, num_maior):\n",
        "  if num < 0:\n",
        "    print(f\"{num}\")\n",
        "for num in range(num_maior, num_menor):\n",
        "  if num < 0:\n",
        "    print(f\"{num}\")"
      ],
      "metadata": {
        "colab": {
          "base_uri": "https://localhost:8080/"
        },
        "id": "xEF1LGvU-paF",
        "outputId": "f5427eb3-1a24-4b55-eea6-3aaf90e729ed"
      },
      "execution_count": null,
      "outputs": [
        {
          "name": "stdout",
          "output_type": "stream",
          "text": [
            "Digite maior numero: 1\n",
            "Digite menor numero: 10\n"
          ]
        }
      ]
    },
    {
      "cell_type": "markdown",
      "source": [
        "Faça um algoritmo que leia a quantidade de tinta que uma caneta, e enquanto a\n",
        "caneta tiver tinta para escrever, escreva “Enquanto tem tinta a caneta escreve...”.\n",
        "Considere que a cada comando de escrita a caneta gasta 2% da tinta que possui."
      ],
      "metadata": {
        "id": "IAqyhoJAU7gL"
      }
    },
    {
      "cell_type": "code",
      "source": [
        "tinta = int(input(\"Digite a quantidade de tinta na caneta: \"))\n",
        "while tinta != 0 and tinta > 0:\n",
        "  tinta += -2\n",
        "  print(f\"Enquanto tem tinta a caneta escreve \")"
      ],
      "metadata": {
        "colab": {
          "base_uri": "https://localhost:8080/"
        },
        "id": "RkR8KEKfVbHP",
        "outputId": "64bfc49c-48c0-4272-ef01-f30cf6036cdd"
      },
      "execution_count": null,
      "outputs": [
        {
          "output_type": "stream",
          "name": "stdout",
          "text": [
            "Digite a quantidade de tinta na caneta: 5\n",
            "Enquanto tem tinta a caneta escreve \n",
            "Enquanto tem tinta a caneta escreve \n",
            "Enquanto tem tinta a caneta escreve \n"
          ]
        }
      ]
    },
    {
      "cell_type": "markdown",
      "source": [
        "Faça um algoritmo que leia n pares de valores, sendo o primeiro valor o número de\n",
        "inscrição do atleta e o segundo a altura (em cm) do atleta. Escreva:\n",
        "\n",
        "• o número de inscrição e a altura do atleta mais alto;\n",
        "\n",
        "• o número de inscrição e a altura do atleta mais baixo;\n",
        "\n",
        "• a altura média do grupo de atletas."
      ],
      "metadata": {
        "id": "GL4TVNfbXHsE"
      }
    },
    {
      "cell_type": "code",
      "source": [
        "inscricoes = []\n",
        "alturas = []\n",
        "\n",
        "for i in range(3):\n",
        "  inscricao = int(input(\"Informe a inscrição: \"))\n",
        "  altura = int(input(\"Informe a altura em centimetros: \"))\n",
        "  inscricoes.append(inscricao)\n",
        "  alturas.append(altura)\n",
        " \n",
        "indice_maior =  alturas.index(max(alturas))\n",
        "indice_menor = alturas.index(min(alturas))\n",
        "\n",
        "inscricao_maior = inscricoes[indice_maior]\n",
        "inscricao_menor = inscricoes[indice_menor]\n",
        "\n",
        "print(f\"A media de altura dos atletas é: {sum(alturas) / len(alturas)}\\nAtleta mais alto: altura = {max(alturas)} Inscrição:{inscricao_maior}\\nAtleta mais baixo: altura = {min(alturas)} Inscrição:{inscricao_menor}\")"
      ],
      "metadata": {
        "colab": {
          "base_uri": "https://localhost:8080/"
        },
        "id": "P3PoOuP1XN-s",
        "outputId": "c55923c1-d7eb-4ffb-b81f-be6781124352"
      },
      "execution_count": null,
      "outputs": [
        {
          "output_type": "stream",
          "name": "stdout",
          "text": [
            "Informe a inscrição: 1\n",
            "Informe a altura em centimetros: 170\n",
            "Informe a inscrição: 2\n",
            "Informe a altura em centimetros: 180\n",
            "Informe a inscrição: 3\n",
            "Informe a altura em centimetros: 190\n",
            "A media de altura dos atletas é: 180.0\n",
            "Atleta mais alto: altura = 190 Inscrição:3\n",
            "Atleta mais baixo: altura = 170 Inscrição:1\n"
          ]
        }
      ]
    },
    {
      "cell_type": "markdown",
      "source": [
        "Construir um algoritmo que calcule o fatorial de um número N."
      ],
      "metadata": {
        "id": "U2KLinBee0gv"
      }
    },
    {
      "cell_type": "code",
      "source": [
        "import math\n",
        "\n",
        "n = int(input(\"Digite um numero: \"))\n",
        "print(f\"{math.factorial(n)}\")"
      ],
      "metadata": {
        "id": "V-abIzSlf0Z2"
      },
      "execution_count": null,
      "outputs": []
    },
    {
      "cell_type": "markdown",
      "source": [
        "Faça um algoritmo que calcule e escreva a soma da seguinte série de 100 termos:\n"
      ],
      "metadata": {
        "id": "kEUSKxzRgWqb"
      }
    },
    {
      "cell_type": "code",
      "source": [
        "contador = []\n",
        "for num in range(101):\n",
        "  contador.append(num)\n",
        "print(f\"{sum(contador)}\")\n",
        "\n"
      ],
      "metadata": {
        "colab": {
          "base_uri": "https://localhost:8080/"
        },
        "id": "XZMygMoDgjLF",
        "outputId": "4facddf7-1df5-4d25-c375-9f32fc63fa7d"
      },
      "execution_count": null,
      "outputs": [
        {
          "output_type": "stream",
          "name": "stdout",
          "text": [
            "5050\n"
          ]
        }
      ]
    },
    {
      "cell_type": "markdown",
      "source": [
        "Uma turma tem 50 alunos. Faça um algoritmo que:\n",
        "\n",
        "• leia para cada aluno o seu nome e idade;\n",
        "\n",
        "• escreva os nomes dos alunos que tem 18 anos;\n",
        "\n",
        "• escreva a quantidade de alunos que tem idade acima de 20 anos."
      ],
      "metadata": {
        "id": "bGhxxEjuV09g"
      }
    },
    {
      "cell_type": "code",
      "source": [
        "nome_18 = []\n",
        "nome_20 = []\n",
        "for aluno in range(3):\n",
        "  nome = input(\"digite nome: \")\n",
        "  idade = int(input(\"digite idade: \"))\n",
        "  if idade == 18:\n",
        "    nome_18.append(nome)\n",
        "  elif idade >= 20:\n",
        "    nome_20.append(nome)\n",
        "  else:\n",
        "    print(\"idade invalida\")\n",
        "print(f\"alunos com 18: {nome_18}\")\n",
        "print(f\"alunos acima de 20: {len(nome_20)}\")"
      ],
      "metadata": {
        "colab": {
          "base_uri": "https://localhost:8080/"
        },
        "id": "E_AYjepyV51t",
        "outputId": "eb9e7ed9-4779-4847-896d-7c033c5ebb10"
      },
      "execution_count": null,
      "outputs": [
        {
          "output_type": "stream",
          "name": "stdout",
          "text": [
            "digite idade: 20\n",
            "digite nome: gustavo\n",
            "digite idade: 18\n",
            "digite nome: gabriel\n",
            "digite idade: 22\n",
            "digite nome: thiago\n",
            "alunos com 18: ['gabriel']\n",
            "alunos acima de 20: 2\n"
          ]
        }
      ]
    },
    {
      "cell_type": "markdown",
      "source": [
        "(13)Fazer um algoritmo para calcular o valor de S, dado por:\n",
        "sendo N lido."
      ],
      "metadata": {
        "id": "7DwHNHGdlvT6"
      }
    },
    {
      "cell_type": "code",
      "source": [
        "n = int(input(\"digite um valor inteiro\"))\n",
        "s = 0\n",
        "den = n\n",
        "for i in range(1,n+1):\n",
        "  s = s + i/den\n",
        "  den = den - 1\n",
        "print(\"s = \", s)"
      ],
      "metadata": {
        "colab": {
          "base_uri": "https://localhost:8080/"
        },
        "id": "Ryasogk3k_sG",
        "outputId": "77644315-f29f-468c-8f64-9aba4cfeda7e"
      },
      "execution_count": null,
      "outputs": [
        {
          "output_type": "stream",
          "name": "stdout",
          "text": [
            "5\n",
            "s =  8.7\n"
          ]
        }
      ]
    },
    {
      "cell_type": "markdown",
      "source": [
        "Em uma disputa de pingue-pongue os pontos são anotados como D, ponto para o\n",
        "jogador do lado direito, e E, ponto para o jogador do lado esquerdo da mesa. Faça um\n",
        "algoritmo que leia o código do ponto de cada jogada e determine o vencedor. A\n",
        "partida encerra quando:\n",
        "\n",
        "a) um dos jogadores chegar a 21 pontos e a diferença de pontos entre os jogadores for\n",
        "maior ou igual a dois;\n",
        "\n",
        "b) o jogador com mais de 21 pontos conseguir uma diferença de dois pontos sobre o\n",
        "adversário, caso a primeira condição não seja atendida."
      ],
      "metadata": {
        "id": "n8x2b4lvyQIS"
      }
    },
    {
      "cell_type": "code",
      "source": [
        "esquerda = 0\n",
        "direita = 0 \n",
        "\n",
        "while True:\n",
        "  ponto = input(\"Quem fez o ponto(D para direita| E para esquerda): \")\n",
        "  if ponto == \"D\":\n",
        "    direita += 1\n",
        "  else:\n",
        "    esquerda += 1\n",
        "  if direita == 21 and esquerda <= 19:\n",
        "    print(\"Jogador da Direita venceu!\")\n",
        "    break\n",
        "  elif esquerda == 21 and direita <= 19:\n",
        "    print(\"Jogador da Esquerda venceu!\")\n",
        "    break\n",
        "  elif direita > 21 and esquerda - direita == 2:\n",
        "    print(\"Jogador da Esquerda venceu!\")\n",
        "  elif esquerda > 21 and direita - esquerda == 2:\n",
        "    print(\"Jogador da Direita venceu!\")\n",
        "  \n",
        "  "
      ],
      "metadata": {
        "id": "a0bQcMnfyzGP"
      },
      "execution_count": null,
      "outputs": []
    },
    {
      "cell_type": "markdown",
      "source": [
        "\n",
        "Os regulamentos de uma competição de pesca impõem um limite no peso total de\n",
        "pesca de um dia. Faça um algoritmo que leia o limite diário (em quilogramas) e então leia o peso (em gramas) de cada peixe e escreva o peso total da pesca obtido até\n",
        "aquele ponto. Quando o limite diário for excedido escreva uma mensagem e encerre a\n",
        "execução do algoritmo. O algoritmo deve ainda apresentar ao usuário a seguinte\n",
        "mensagem: informar o peso de mais um peixe: s (SIM) / n (NÃO)? antes de prosseguir\n",
        "com a entrada de dados.\n"
      ],
      "metadata": {
        "id": "UBB3glVe8XwW"
      }
    },
    {
      "cell_type": "code",
      "source": [
        "limite = float(input(\"Limite de peso diario: \"))\n",
        "peso_total = 0\n",
        "while True:\n",
        "  peso_peixe =  float(input(\"Peso do peixe em gramas: \"))\n",
        "  peso_total += (peso_peixe / 1000)\n",
        "  mensagem = input(\"informar o peso de mais um peixe: s(SIM) | n (NÃO)\")\n",
        "  print(f\"O peso atual é: {peso_total}\")\n",
        "  if peso_total > limite:\n",
        "    print(\"Peso diario excedido\")\n",
        "    break\n",
        "  if mensagem == \"s\":\n",
        "    continue\n",
        "  else:\n",
        "    break\n",
        "\n"
      ],
      "metadata": {
        "id": "URNE-x2_8k9t"
      },
      "execution_count": null,
      "outputs": []
    },
    {
      "cell_type": "markdown",
      "source": [
        "Um determinado material radioativo perde metade de sua massa a cada 50 segundos.\n",
        "Dada a sua massa inicial em Kg, faça um algoritmo que determine o tempo necessário\n",
        "para que essa massa se torne menor que 0,5 gramas. Escreva a massa inicial, a massa\n",
        "final e o tempo."
      ],
      "metadata": {
        "id": "A4viyD3SAJxd"
      }
    },
    {
      "cell_type": "code",
      "source": [
        "massa_inicial = float(input(\"Digite a massa inicial em Kilos: \"))\n",
        "massa_final = (massa_inicial * 1000)\n",
        "tempo = 0\n",
        "while massa_final > 0.5:\n",
        "  massa_final = massa_inicial / 2\n",
        "  tempo += 50\n",
        "print(f\"{massa_inicial}\")\n",
        "print(f\"{massa_final}\")\n",
        "print(f\"{tempo}\")\n",
        "\n",
        "\n"
      ],
      "metadata": {
        "colab": {
          "base_uri": "https://localhost:8080/"
        },
        "id": "B2vFCV0AAKkU",
        "outputId": "6e83d2ec-503d-4fcd-870a-f590daa96a9f"
      },
      "execution_count": 2,
      "outputs": [
        {
          "output_type": "stream",
          "name": "stdout",
          "text": [
            "Digite a massa inicial em Kilos: 1\n",
            "1.0\n",
            "0.5\n",
            "50\n"
          ]
        }
      ]
    }
  ]
}