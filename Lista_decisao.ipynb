{
  "nbformat": 4,
  "nbformat_minor": 0,
  "metadata": {
    "colab": {
      "provenance": [],
      "authorship_tag": "ABX9TyMAvHPTEWW0Cp0dDr4vT78c",
      "include_colab_link": true
    },
    "kernelspec": {
      "name": "python3",
      "display_name": "Python 3"
    },
    "language_info": {
      "name": "python"
    }
  },
  "cells": [
    {
      "cell_type": "markdown",
      "metadata": {
        "id": "view-in-github",
        "colab_type": "text"
      },
      "source": [
        "<a href=\"https://colab.research.google.com/github/ThiagoJelinski/bsi/blob/master/Lista_decisao.ipynb\" target=\"_parent\"><img src=\"https://colab.research.google.com/assets/colab-badge.svg\" alt=\"Open In Colab\"/></a>"
      ]
    },
    {
      "cell_type": "markdown",
      "source": [
        "Ler um valor e escrever se é positivo, negativo ou zero."
      ],
      "metadata": {
        "id": "cPFAxyuDKpfu"
      }
    },
    {
      "cell_type": "code",
      "source": [
        "n = float(input(\"Digite um valor: \"))\n",
        "\n",
        "if n > 0:\n",
        "  print(f\"O valor {n} é positivo\")\n",
        "elif n < 0:\n",
        "  print(f\"O valor {n} é negativo\")\n",
        "else:\n",
        "  print(f\"O valor {n} é igual a zero\")"
      ],
      "metadata": {
        "colab": {
          "base_uri": "https://localhost:8080/"
        },
        "id": "7dPxXQ4EKs0U",
        "outputId": "3c54ea55-ae9c-4ab5-cd5f-6cff2ce1b472"
      },
      "execution_count": null,
      "outputs": [
        {
          "output_type": "stream",
          "name": "stdout",
          "text": [
            "Digite um valor: -5\n",
            "O valor -5.0 é negativo\n"
          ]
        }
      ]
    },
    {
      "cell_type": "markdown",
      "source": [
        "Ler um valor e escrever a mensagem É MAIOR QUE 10! se o valor lido for maior que 10,\n",
        "caso contrário escrever NÃO É MAIOR QUE 10!"
      ],
      "metadata": {
        "id": "aZc1tMekL-Mv"
      }
    },
    {
      "cell_type": "code",
      "source": [
        "n = float(input(\"Digite um valor: \"))\n",
        "\n",
        "if n >= 10:\n",
        "  print(\"É maior ou igual que 10!\")\n",
        "else:\n",
        "  print(\"Não é maior que 10!\")"
      ],
      "metadata": {
        "colab": {
          "base_uri": "https://localhost:8080/"
        },
        "id": "Mb6ES3LIMAAq",
        "outputId": "50adb8fc-9b76-46c3-edcc-a247eb49162a"
      },
      "execution_count": null,
      "outputs": [
        {
          "output_type": "stream",
          "name": "stdout",
          "text": [
            "Digite um valor: 10\n",
            "É maior ou igual que 10!\n"
          ]
        }
      ]
    },
    {
      "cell_type": "markdown",
      "source": [
        "Calcule a soma de dois números, se o resultado for maior que 10, mostre-o na tela."
      ],
      "metadata": {
        "id": "Q-Z8LR6INA_P"
      }
    },
    {
      "cell_type": "code",
      "source": [
        "n1 = float(input(\"Digite um valor: \"))\n",
        "n2 = float(input(\"Digite um valor: \"))\n",
        "\n",
        "soma = n1 + n2\n",
        "\n",
        "if soma > 10:\n",
        "  print(f\"O resultado da soma é de {soma}\")"
      ],
      "metadata": {
        "colab": {
          "base_uri": "https://localhost:8080/"
        },
        "id": "rg6FRQDTNDHI",
        "outputId": "63418c7d-f4dd-4ac0-adc5-cf4e9046953e"
      },
      "execution_count": null,
      "outputs": [
        {
          "name": "stdout",
          "output_type": "stream",
          "text": [
            "Digite um valor: 5\n",
            "Digite um valor: 5\n"
          ]
        }
      ]
    },
    {
      "cell_type": "markdown",
      "source": [
        "Entrar com um número e informar se ele é divisível por 5."
      ],
      "metadata": {
        "id": "zpwdapWYNjum"
      }
    },
    {
      "cell_type": "code",
      "source": [
        "n = float(input(\"Digite um valor: \"))\n",
        "\n",
        "if n % 5 == 0:\n",
        "  print(\"O valor informado é divisel por 5\")\n",
        "else:\n",
        "  print(\"O valor informado não é divisel por 5\")"
      ],
      "metadata": {
        "colab": {
          "base_uri": "https://localhost:8080/"
        },
        "id": "CZrfrfUjNoDl",
        "outputId": "fe722a63-027d-4de8-8282-f62dfda9e30e"
      },
      "execution_count": null,
      "outputs": [
        {
          "output_type": "stream",
          "name": "stdout",
          "text": [
            "Digite um valor: 10\n",
            "O valor informado é divisel por 5\n"
          ]
        }
      ]
    },
    {
      "cell_type": "markdown",
      "source": [
        "Construir um algoritmo que indique se o número digitado está entre 20 e 90 ou não."
      ],
      "metadata": {
        "id": "Xi7WFZclOfe-"
      }
    },
    {
      "cell_type": "code",
      "source": [
        "n = float(input(\"Digite um valor: \"))\n",
        "\n",
        "if n > 20 and n < 90:\n",
        "  print(\"O numero digitado esta entre 20 e 90\")\n",
        "else:\n",
        "  print(\"O numero digitado nao esta entere 20 e 90\")"
      ],
      "metadata": {
        "colab": {
          "base_uri": "https://localhost:8080/"
        },
        "id": "-1AAZnZwOihl",
        "outputId": "ca68e52f-ab30-4ced-c178-a83311b2fd42"
      },
      "execution_count": null,
      "outputs": [
        {
          "output_type": "stream",
          "name": "stdout",
          "text": [
            "Digite um valor: 1\n",
            "O numero digitado nao esta entere 20 e 90\n"
          ]
        }
      ]
    },
    {
      "cell_type": "markdown",
      "source": [
        "Ler o ano atual e o ano de nascimento de uma pessoa. Escrever uma mensagem que\n",
        "diga se ela poderá ou não votar este ano (não é necessário considerar o mês em que a\n",
        "pessoa nasceu)."
      ],
      "metadata": {
        "id": "8yO0pMTUO_hP"
      }
    },
    {
      "cell_type": "code",
      "source": [
        "anoAt = int(input(\"Digite o ano atual: \"))\n",
        "anoNs = int(input(\"Digite o ano em qual nasceu: \"))\n",
        "\n",
        "if anoAt - anoNs >= 16:\n",
        "  print(\"Este ano você podera votar!\")\n",
        "else:\n",
        "  print(\"Este ano você não podera votar!\")\n",
        "  "
      ],
      "metadata": {
        "colab": {
          "base_uri": "https://localhost:8080/"
        },
        "id": "IICL3ThRPDE3",
        "outputId": "1295e6d7-795b-4094-95c4-3562b1b930e9"
      },
      "execution_count": null,
      "outputs": [
        {
          "output_type": "stream",
          "name": "stdout",
          "text": [
            "Digite o ano atual: 2023\n",
            "Digite o ano em qual nasceu: 2007\n",
            "Este ano você podera votar!\n"
          ]
        }
      ]
    },
    {
      "cell_type": "markdown",
      "source": [
        "Entrar com o ano de nascimento de uma pessoa e imprimir a idade dela. Verificar se o\n",
        "ano digitado é válido."
      ],
      "metadata": {
        "id": "Aw4TxgSHQcZq"
      }
    },
    {
      "cell_type": "code",
      "source": [
        "ano = int(input(\"Digite o ano de nascimento: \"))\n",
        "\n",
        "if ano > 0 and ano <= 2023:\n",
        "  print(f\"Sua idade é {2023 - ano}\")\n",
        "else:\n",
        "  print(\"O ano digitado não é valido\")"
      ],
      "metadata": {
        "id": "uy9649IjQlzF"
      },
      "execution_count": null,
      "outputs": []
    },
    {
      "cell_type": "markdown",
      "source": [
        "Entrar com a idade de uma pessoa e exibir a mensagem; Maior de idade, menor de\n",
        "idade ou acima de 65 anos."
      ],
      "metadata": {
        "id": "4ZF6hwvLR7tU"
      }
    },
    {
      "cell_type": "code",
      "source": [
        "idade = float(input(\"Digite sua idade: \"))\n",
        "\n",
        "if idade >= 18 and idade <= 65:\n",
        "  print(\"Maior de idade\")\n",
        "elif idade < 18:\n",
        "  print(\"Menor de idade\")\n",
        "else:\n",
        "  print(\"Acima de 65 anos\")"
      ],
      "metadata": {
        "colab": {
          "base_uri": "https://localhost:8080/"
        },
        "id": "d5yHpZ0yR-G0",
        "outputId": "0a36d7c5-4d4c-45ef-d1b8-40883d385747"
      },
      "execution_count": null,
      "outputs": [
        {
          "output_type": "stream",
          "name": "stdout",
          "text": [
            "Digite sua idade: 18\n",
            "Maior de idade\n"
          ]
        }
      ]
    },
    {
      "cell_type": "markdown",
      "source": [
        "Ler as notas da 1a\n",
        ". e 2a\n",
        ". avaliações de um aluno. Calcular a média aritmética simples e\n",
        "escrever uma mensagem que diga se o aluno foi ou não aprovado (considerar que se a\n",
        "nota for igual ou maior que 6 o aluno é aprovado). Escrever também a média\n",
        "calculada."
      ],
      "metadata": {
        "id": "LD-rIyZRTcB0"
      }
    },
    {
      "cell_type": "code",
      "source": [
        "n1 = float(input(\"Digite sua primeira nota: \"))\n",
        "n2 = float(input(\"Digite sua segunda nota: \"))\n",
        "\n",
        "if (n1 + n2) / 2 >= 6:\n",
        "  print(f\"Você foi aprovado!\\nSua media é {(n1 + n2) /2}\")\n",
        "else:\n",
        "  print(f\"Vocẽ foi reprovado!\\nSua media é {(n1 + n2)/2}\")\n"
      ],
      "metadata": {
        "colab": {
          "base_uri": "https://localhost:8080/"
        },
        "id": "MMBF3uUVTdlH",
        "outputId": "8bed6486-2227-4460-8808-b0483e294d79"
      },
      "execution_count": null,
      "outputs": [
        {
          "output_type": "stream",
          "name": "stdout",
          "text": [
            "Digite sua primeira nota: 6\n",
            "Digite sua segunda nota: 6\n",
            "Você foi aprovado!\n",
            "Sua media é 6.0\n"
          ]
        }
      ]
    },
    {
      "cell_type": "markdown",
      "source": [
        "Escrever um algoritmo para ler duas notas de um aluno e escrever na tela a palavra\n",
        "“Aprovado” se a média das duas notas for maior ou igual a 7,0. Caso a média seja\n",
        "inferior a 7,0, o programa deve ler a nota do exame e calcular a média final. Se esta\n",
        "média for maior ou igual a 5,0, o programa deve escrever “Aprovado”, caso contrário\n",
        "deve escrever “Reprovado”."
      ],
      "metadata": {
        "id": "j9TWs8qLU8rT"
      }
    },
    {
      "cell_type": "code",
      "source": [
        "n1 = float(input(\"Digite sua primeira nota: \"))\n",
        "n2 = float(input(\"Digite sua segunda nota: \"))\n",
        "\n",
        "media = (n1 + n2) /2\n",
        "\n",
        "if media >= 7:\n",
        "  print(\"Você foi aprovado!\")\n",
        "else:\n",
        "  ex = float(input(\"Digite sua nota no exame: \"))\n",
        "  mediaEx = (media + ex) / 2\n",
        "  if mediaEx >= 5:\n",
        "    print(\"Aprovado em Exame!\")\n",
        "  else:\n",
        "    print(\"Reprovado!\")"
      ],
      "metadata": {
        "colab": {
          "base_uri": "https://localhost:8080/"
        },
        "id": "pu_dORmTVCKf",
        "outputId": "0cdbabd8-8921-43fe-a4c2-b4fbd28be36e"
      },
      "execution_count": null,
      "outputs": [
        {
          "output_type": "stream",
          "name": "stdout",
          "text": [
            "Digite sua primeira nota: 5\n",
            "Digite sua segunda nota: 5\n",
            "Digite sua nota no exame: 5\n",
            "Aprovado em Exame!\n"
          ]
        }
      ]
    },
    {
      "cell_type": "markdown",
      "source": [
        "Escrever um algoritmo para ler a quantidade de horas aula dadas por dois professores\n",
        "e o valor por hora recebido por cada um. Mostrar na tela qual dos professores tem\n",
        "salário total maior."
      ],
      "metadata": {
        "id": "mPOO7yOBXoRz"
      }
    },
    {
      "cell_type": "code",
      "source": [
        "prof1 = float(input(\"Digite quantidade de horas dadas de aulas pelo primeiro professor: \"))\n",
        "prof2 = float(input(\"Digite quantidade de horas dadas de aulas pelo segundo professor: \"))\n",
        "valor1 = float(input(\"Digite quantos é o ganho por hora pelo primeiro professor: \"))\n",
        "valor2 = float(input(\"Digite quantos é o ganho por hora pelo segundo professor: \"))\n",
        "\n",
        "salario1 = prof1 * valor1\n",
        "salario2 = prof2 * valor2\n",
        "\n",
        "if salario1 > salario2:\n",
        "  print(\"O primeiro professor tem um salario maior!\")\n",
        "else:\n",
        "  print(\"O segundo professor tem um salario maior!\")"
      ],
      "metadata": {
        "colab": {
          "base_uri": "https://localhost:8080/"
        },
        "id": "6siB-3qRXcI7",
        "outputId": "392f9705-5bb7-4c2b-ae95-ea3158218603"
      },
      "execution_count": null,
      "outputs": [
        {
          "output_type": "stream",
          "name": "stdout",
          "text": [
            "Digite quantidade de horas dadas de aulas pelo primeiro professor: 160\n",
            "Digite quantidade de horas dadas de aulas pelo segundo professor: 100\n",
            "Digite quantos é o ganho por hora pelo primeiro professor: 15\n",
            "Digite quantos é o ganho por hora pelo segundo professor: 15\n",
            "O primeiro professor tem um salario maior!\n"
          ]
        }
      ]
    },
    {
      "cell_type": "markdown",
      "source": [
        "Faça um algoritmo que leia um número inteiro e mostre uma mensagem indicando se\n",
        "este número é par ou ímpar."
      ],
      "metadata": {
        "id": "6H0ShL-VaJWi"
      }
    },
    {
      "cell_type": "code",
      "source": [
        "n = int(input(\"Digite um numero inteiro: \"))\n",
        "\n",
        "if n % 2 == 0:\n",
        "  print(\"este numero é par\")\n",
        "else:\n",
        "  print(\"este numero é impar\")"
      ],
      "metadata": {
        "colab": {
          "base_uri": "https://localhost:8080/"
        },
        "id": "ba24vvkBaLgF",
        "outputId": "cabd1b13-1098-4ef4-f356-ecab96fda46d"
      },
      "execution_count": null,
      "outputs": [
        {
          "output_type": "stream",
          "name": "stdout",
          "text": [
            "Digite um numero inteiro: 527\n",
            "este numero é impar\n"
          ]
        }
      ]
    },
    {
      "cell_type": "markdown",
      "source": [
        "Ler o nome de 2 times e o número de gols marcados na partida. Escrever o nome do\n",
        "vencedor. Caso não haja vencedor deverá ser impressa a palavra EMPATE."
      ],
      "metadata": {
        "id": "zLlbFub0ao3Y"
      }
    },
    {
      "cell_type": "code",
      "source": [
        "time1 = input(\"Informe o nome do primeiro time: \")\n",
        "time2 = input(\"Informe o nome do segundo time: \")\n",
        "gol1 = int(input(f\"Digite a quantidade de gols do {time1}: \"))\n",
        "gol2 = int(input(f\"Digite a quantidade de gols do {time2}: \"))\n",
        "\n",
        "if gol1 > gol2:\n",
        "  print(f\"O {time1} é o vencedor!\")\n",
        "elif gol2 > gol1:\n",
        "  print(f\"O {time2} é o vencedor!\")\n",
        "else:\n",
        "  print(\"Empate!\")\n"
      ],
      "metadata": {
        "colab": {
          "base_uri": "https://localhost:8080/"
        },
        "id": "hr72_YpEathA",
        "outputId": "2ae7dbfe-a4d9-4bd4-e7e2-7338030882a3"
      },
      "execution_count": null,
      "outputs": [
        {
          "output_type": "stream",
          "name": "stdout",
          "text": [
            "Informe o nome do primeiro time: flamengo\n",
            "Informe o nome do segundo time: jec\n",
            "Digite a quantidade de gols do flamengo: 0\n",
            "Digite a quantidade de gols do jec: 522\n",
            "O jec é o vencedor!\n"
          ]
        }
      ]
    },
    {
      "cell_type": "markdown",
      "source": [
        "Entrar com a sigla do estado de uma pessoa e imprimir uma das mensagens: “Carioca,\n",
        "Paulista, Mineiro ou Outros”"
      ],
      "metadata": {
        "id": "srQO8oKFb_w1"
      }
    },
    {
      "cell_type": "code",
      "source": [
        "sigla = input(\"Digite o estado no qual nasceu: \")\n",
        "\n",
        "match sigla:\n",
        "  case \"RJ\":\n",
        "    print(\"Carioca\")\n",
        "  case \"SP\":\n",
        "    print(\"Paulista\")\n",
        "  case \"MG\":\n",
        "    print(\"Mineiro\")\n",
        "default: print(\"Outros\")\n"
      ],
      "metadata": {
        "colab": {
          "base_uri": "https://localhost:8080/"
        },
        "id": "MRqCRtZjcB9l",
        "outputId": "7cf5a0ee-76f6-4bb9-c47c-201bd0e46b97"
      },
      "execution_count": null,
      "outputs": [
        {
          "output_type": "stream",
          "name": "stdout",
          "text": [
            "Digite o estado no qual nasceu: SC\n",
            "Outros\n"
          ]
        }
      ]
    },
    {
      "cell_type": "markdown",
      "source": [
        "Um comerciante comprou um produto e quer vendê-lo com um lucro de 45% se o valor\n",
        "da compra for menor que R$ 20,00; Caso contrário, o lucro será de 30%. Entrar com o\n",
        "valor do produto e imprimir o valor da venda."
      ],
      "metadata": {
        "id": "6pnJ1mHGpBOk"
      }
    },
    {
      "cell_type": "code",
      "source": [
        "produto = float(input(\"Digite o valor do produto: \"))\n",
        "\n",
        "if produto < 20:\n",
        "  print(f\"O valor da compra é:R${(produto * 0.45) + produto}\")\n",
        "else:\n",
        "  print(f\"O valor da compra é:R${(produto * 0.30) + produto}\")\n"
      ],
      "metadata": {
        "colab": {
          "base_uri": "https://localhost:8080/"
        },
        "id": "qSVJIhKgpDrE",
        "outputId": "9ca0a717-4a21-45b7-e7de-c9eb3ada66dd"
      },
      "execution_count": null,
      "outputs": [
        {
          "output_type": "stream",
          "name": "stdout",
          "text": [
            "Digite o valor do produto: 19\n",
            "O valor da compra é:R$27.55\n"
          ]
        }
      ]
    },
    {
      "cell_type": "markdown",
      "source": [
        "Entrar com um número de 1 a 12 e exibir o mês correspondente."
      ],
      "metadata": {
        "id": "xtKGnwcRqLNk"
      }
    },
    {
      "cell_type": "code",
      "source": [
        "mes = int(input(\"Digite o um numero de 1 a 12: \"))\n",
        "\n",
        "match mes:\n",
        "  case 1:\n",
        "    print(\"Janeiro\")\n",
        "  case 2:\n",
        "    print(\"fevereiro\")\n",
        "  case 3:\n",
        "    print(\"março\")\n",
        "  case 4:\n",
        "    print(\"abril\")\n",
        "  case 5:\n",
        "    print(\"maio\")\n",
        "  case 6:\n",
        "    print(\"Junho\")\n",
        "  case 7:\n",
        "    print(\"Julho\")\n",
        "  case 8:\n",
        "    print(\"Agosto\")\n",
        "  case 9:\n",
        "    print(\"Setembro\")\n",
        "  case 10:\n",
        "    print(\"Outubro\")\n",
        "  case 11:\n",
        "    print(\"Novembro\")\n",
        "  case 12:\n",
        "    print(\"Dezembro\")\n",
        "  case _:\n",
        "    print(\"Numero invalido\")\n"
      ],
      "metadata": {
        "colab": {
          "base_uri": "https://localhost:8080/"
        },
        "id": "NO_cuUvXqNNs",
        "outputId": "ad5979b6-03a6-4448-92c7-74b5162c82b9"
      },
      "execution_count": null,
      "outputs": [
        {
          "output_type": "stream",
          "name": "stdout",
          "text": [
            "Digite o um numero de 1 a 12: 13\n",
            "Numero invalido\n"
          ]
        }
      ]
    },
    {
      "cell_type": "markdown",
      "source": [
        "Faça um algoritmo que verifique se uma letra digitada é vogal ou consoante."
      ],
      "metadata": {
        "id": "JUeLJ_QFrnis"
      }
    },
    {
      "cell_type": "code",
      "source": [
        "letra = input(\"Digite uma letra: \")\n",
        "\n",
        "if letra in \"AEIOUaeiou\":\n",
        "  print(\"A letra é vogal\")\n",
        "elif letra in \"0123456789\":\n",
        "  print(\"Invalido\")\n",
        "else:\n",
        "  print(\"A letra é consoante\")\n"
      ],
      "metadata": {
        "colab": {
          "base_uri": "https://localhost:8080/"
        },
        "id": "4aVrscvxrogE",
        "outputId": "4ae15814-7978-43fd-9366-507f8b0337fc"
      },
      "execution_count": null,
      "outputs": [
        {
          "output_type": "stream",
          "name": "stdout",
          "text": [
            "Digite uma letra: 5\n",
            "Invalido\n"
          ]
        }
      ]
    },
    {
      "cell_type": "markdown",
      "source": [
        "Ler 2 valores (considere que não serão lidos valores iguais) e escrever o maior deles."
      ],
      "metadata": {
        "id": "1gKETaxqsw2k"
      }
    },
    {
      "cell_type": "code",
      "source": [
        "v1 = float(input(\"Digite um valor: \"))\n",
        "v2 = float(input(\"Digite um valor: \"))\n",
        "\n",
        "if v1 == v2:\n",
        "  print(\"Os valores são iguais\")\n",
        "elif v1 > v2:\n",
        "  print(f\"O {v1} é maior que {v2}!\")\n",
        "else:\n",
        "  print(f\"O {v2} é maior que {v1}!\")"
      ],
      "metadata": {
        "colab": {
          "base_uri": "https://localhost:8080/"
        },
        "id": "oPTsm675s0F0",
        "outputId": "0345dc6f-8867-44a9-8c43-91a7fc87e34b"
      },
      "execution_count": null,
      "outputs": [
        {
          "output_type": "stream",
          "name": "stdout",
          "text": [
            "Digite um valor: 5\n",
            "Digite um valor: 10\n",
            "O 10.0 é maior que o valor 5.0\n"
          ]
        }
      ]
    },
    {
      "cell_type": "markdown",
      "source": [
        "Ler 2 valores (considere que não serão lidos valores iguais) e escrevê-los em ordem\n",
        "crescente."
      ],
      "metadata": {
        "id": "TZ_HI1cStpOu"
      }
    },
    {
      "cell_type": "code",
      "source": [
        "v1 = float(input(\"Digite um valor: \"))\n",
        "v2 = float(input(\"Digite um valor: \"))\n",
        "\n",
        "if v1 == v2:\n",
        "  print(\"Os valores são iguais\")\n",
        "elif v1 > v2:\n",
        "  print(f\"{v2},{v1}\")\n",
        "else:\n",
        "  print(f\"{v1},{v2}\")"
      ],
      "metadata": {
        "colab": {
          "base_uri": "https://localhost:8080/"
        },
        "id": "dpvJb9YfttNe",
        "outputId": "a5f2310a-7262-4c99-a475-51b46cbe54d9"
      },
      "execution_count": null,
      "outputs": [
        {
          "output_type": "stream",
          "name": "stdout",
          "text": [
            "Digite um valor: 1\n",
            "Digite um valor: 1\n",
            "Os valores são iguais\n"
          ]
        }
      ]
    },
    {
      "cell_type": "markdown",
      "source": [
        "Ler 3 valores (considere que não serão informados valores iguais) e escrever o maior\n",
        "deles."
      ],
      "metadata": {
        "id": "ihVdRcsluvQ3"
      }
    },
    {
      "cell_type": "code",
      "source": [
        "v1 = float(input(\"Digite um valor: \"))\n",
        "v2 = float(input(\"Digite um valor: \"))\n",
        "v3 = float(input(\"Digite um valor: \"))\n",
        "\n",
        "if v1 == v2 == v3:\n",
        "  print(\"Os valores são iguais\")\n",
        "elif v1 > v2 and v1 > v3:\n",
        "  print(f\"O {v1} é maior que {v2} e {v3}!\")\n",
        "elif v2 > v1 and v2 > v3:\n",
        "  print(f\"O {v2} é maior que {v1} e {v3}!\")\n",
        "else:\n",
        "  print(f\"O {v3} é maior que {v1} e {v2}\")"
      ],
      "metadata": {
        "colab": {
          "base_uri": "https://localhost:8080/"
        },
        "id": "LByz6Y5-uuov",
        "outputId": "80e70b2f-45ad-4771-e80b-ec8d64927f40"
      },
      "execution_count": null,
      "outputs": [
        {
          "output_type": "stream",
          "name": "stdout",
          "text": [
            "Digite um valor: 1\n",
            "Digite um valor: 1\n",
            "Digite um valor: 1\n",
            "Os valores são iguais\n"
          ]
        }
      ]
    },
    {
      "cell_type": "markdown",
      "source": [
        "Ler 3 valores (considere que não serão informados valores iguais) e escrever a soma\n",
        "dos 2 maiores."
      ],
      "metadata": {
        "id": "0e6UiebkwbcC"
      }
    },
    {
      "cell_type": "code",
      "source": [
        "v1 = float(input(\"Digite um valor: \"))\n",
        "v2 = float(input(\"Digite um valor: \"))\n",
        "v3 = float(input(\"Digite um valor: \"))\n",
        "\n",
        "if v1 < v2 and v1 < v3:\n",
        "  print(f\"A soma é {v2 + v3}\")\n",
        "elif v2 < v1 and v2 < v3:\n",
        "  print(f\"A soma é {v1 + v3}\")\n",
        "else:\n",
        "  print(f\"A soma é {v1 + v2}\")"
      ],
      "metadata": {
        "colab": {
          "base_uri": "https://localhost:8080/"
        },
        "id": "b6JHVzlbwd75",
        "outputId": "2e2a19ab-e6b7-4037-8434-72b940f2bd4c"
      },
      "execution_count": null,
      "outputs": [
        {
          "output_type": "stream",
          "name": "stdout",
          "text": [
            "Digite um valor: 1\n",
            "Digite um valor: 1\n",
            "Digite um valor: 1\n",
            "A soma é 2.0\n"
          ]
        }
      ]
    },
    {
      "cell_type": "markdown",
      "source": [
        "Ler 3 valores (considere que não serão informados valores iguais) e escrevê-los em\n",
        "ordem crescente."
      ],
      "metadata": {
        "id": "dLpB9UuF1CH3"
      }
    },
    {
      "cell_type": "code",
      "source": [
        "v1 = float(input(\"Digite um valor: \"))\n",
        "v2 = float(input(\"Digite um valor: \"))\n",
        "v3 = float(input(\"Digite um valor: \"))\n",
        "\n",
        "if v1 < v2 and v2 < v3:\n",
        "  print(f\" A ordem é {v1},{v2},{v3}\")\n",
        "elif v2 < v3 and v3 < v1:\n",
        "  print(f\"A ordem é {v2},{v3},{v1}\")\n",
        "else:\n",
        "  print(f\"A ordem é {v3},{v2},{v1}\")"
      ],
      "metadata": {
        "colab": {
          "base_uri": "https://localhost:8080/"
        },
        "id": "0qmA5jkx1Ceu",
        "outputId": "8fe90ae8-edf0-4c7c-860b-60300946f9ea"
      },
      "execution_count": null,
      "outputs": [
        {
          "output_type": "stream",
          "name": "stdout",
          "text": [
            "Digite um valor: 2\n",
            "Digite um valor: 3\n",
            "Digite um valor: 1\n",
            "A ordem é 1.0,3.0,2.0\n"
          ]
        }
      ]
    },
    {
      "cell_type": "markdown",
      "source": [
        "Faça um algoritmo que leia as duas notas parciais obtidas por um aluno numa\n",
        "disciplina ao longo de um semestre, e calcule a sua média. A atribuição de conceitos\n",
        "obedece à tabela abaixo:\n",
        "\n",
        "Aproveitamento Conceito\n",
        "\n",
        "Entre 9.0 e 10.0 A\n",
        "\n",
        "Entre 7.5 e 9.0 B\n",
        "\n",
        "Entre 6.0 e 7.5 C\n",
        "\n",
        "Entre 4.0 e 6.0 D\n",
        "\n",
        "Entre 4.0 e zero E"
      ],
      "metadata": {
        "id": "iQIMwzDh4uPx"
      }
    },
    {
      "cell_type": "code",
      "source": [
        "n1 = float(input(\"Digite sua primeira nota: \"))\n",
        "n2 = float(input(\"Digite sua segunda nota: \"))\n",
        "\n",
        "media = (n1 + n2) / 2\n",
        "\n",
        "if media >= 9 and media <= 10:\n",
        "  print(f\"Suas notas são {n1}, {n2}\\nsua media é {media}\\nClass A! Aprovado\")\n",
        "elif media >= 7.5 and media <= 9:\n",
        "  print(f\"Suas notas são {n1}, {n2}\\nsua media é {media}\\nClass B! Aprovado\")\n",
        "elif media >= 6 and media <= 7.5:\n",
        "  print(f\"Suas notas são {n1}, {n2}\\nsua media é {media}\\nClass C! Aprovado\")\n",
        "elif media >= 4 and media <= 6:\n",
        "  print(f\"Suas notas {n1}, {n2}\\nsua media é {media}\\nClass D! Reprovado\")\n",
        "else:\n",
        "  print(f\"Suas notas são {n1}, {n2}\\nsua media é {media}\\nClass E! Reprovado\")  "
      ],
      "metadata": {
        "id": "8_ZBpzrr4ymX",
        "colab": {
          "base_uri": "https://localhost:8080/"
        },
        "outputId": "a8bc856b-9778-4385-c04e-34857bb2933d"
      },
      "execution_count": null,
      "outputs": [
        {
          "output_type": "stream",
          "name": "stdout",
          "text": [
            "Digite sua primeira nota: 9\n",
            "Digite sua segunda nota: 10\n",
            "Suas notas são 9.0, 10.0\n",
            "sua media é 9.5\n",
            "Class A! Aprovado\n"
          ]
        }
      ]
    },
    {
      "cell_type": "markdown",
      "source": [
        "Escrever um algoritmo para ler dois valores e uma das seguintes operações a serem\n",
        "executadas (codificadas da seguinte forma: 1 – Adição, 2 – Subtração, 3 – Multiplicação\n",
        "e 4 – Divisão). Calcular e escrever o resultado dessa operação sobre os dois valores\n",
        "lidos."
      ],
      "metadata": {
        "id": "fPdYuFp_OEG6"
      }
    },
    {
      "cell_type": "code",
      "source": [
        "v1 = float(input(\"Digite um valor: \"))\n",
        "v2 = float(input(\"Digite um valor: \"))\n",
        "op = int(input(\"Digite qual operação, 1 adição / 2 subtração / 3 multiplicação / 4 divisao: \"))\n",
        "\n",
        "if op == 1:\n",
        "  print(f\"resultado da adição: {v1 + v2}\")\n",
        "elif op == 2:\n",
        "  print(f\"resultado da subtração: {v1 - v2}\")\n",
        "elif op ==  3:\n",
        "  print(f\"resultado da multiplicação: {v1 * v2}\")\n",
        "elif op == 4:\n",
        "  print(f\"resultado da divisão: {v1 / v2}\")\n",
        "else:\n",
        "  print(\"NUMERO INVALIDO!\")\n",
        "  "
      ],
      "metadata": {
        "colab": {
          "base_uri": "https://localhost:8080/"
        },
        "id": "qjKM-J3hORRc",
        "outputId": "493237ef-b81f-43b3-8728-504ac548d139"
      },
      "execution_count": null,
      "outputs": [
        {
          "output_type": "stream",
          "name": "stdout",
          "text": [
            "Digite um valor: 5\n",
            "Digite um valor: 3\n",
            "Digite qual operação, 1 adição / 2 subtração / 3 multiplicação / 4 divisao: 2\n",
            "resultado da subtração: 2.0\n"
          ]
        }
      ]
    },
    {
      "cell_type": "markdown",
      "source": [
        "Faça um algoritmo para calcular as raízes reais de uma equação quadrática: \n",
        "\n",
        "ax2 + bx +\n",
        "c = 0. \n",
        "\n",
        "Uma equação quadrática só tem raiz reais se (b2 - 4ac) for maior ou igual a\n",
        "zero. O algoritmo deverá informar as seguintes situações:\n",
        "\n",
        "• Se o delta calculado for negativo, a equação não possui raízes reais. Informe ao\n",
        "usuário e encerre o programa;\n",
        "\n",
        "• Se o delta calculado for igual a zero a equação possui apenas uma raiz real,\n",
        "informe-a ao usuário;\n",
        "\n",
        "• Se o delta for positivo, a equação possui duas raiz reais, informe-as ao usuário."
      ],
      "metadata": {
        "id": "_6pDVYfuQa-N"
      }
    },
    {
      "cell_type": "code",
      "source": [
        "import math\n",
        "\n",
        "a = float(input(\"Digite o valor do A: \"))\n",
        "b = float(input(\"Digite o valor de B: \"))\n",
        "c = float(input(\"Digite o valor de C: \"))\n",
        "\n",
        "delta = (b ** 2) - (4 * a * c)\n",
        "if delta < 0:\n",
        "  print(\"Valor invalido, programa encerrado!\")\n",
        "elif delta == 0:\n",
        "  bkr = - b + math.sqrt(delta) / 2 * a\n",
        "  print(f\"A equação possui um valor: {bkr}\")\n",
        "else:\n",
        "  x1 = (- b + (math.sqrt(delta))) / (2 * a)\n",
        "  x2 = (- b - (math.sqrt(delta))) / (2 * a)\n",
        "  print(f\"valor do x1:{x1}\\nvalor do x2:{x2}\")"
      ],
      "metadata": {
        "colab": {
          "base_uri": "https://localhost:8080/"
        },
        "id": "t5TtA4ypQmhi",
        "outputId": "0f517d87-f8af-4797-d12d-c4ba6fdee43e"
      },
      "execution_count": null,
      "outputs": [
        {
          "output_type": "stream",
          "name": "stdout",
          "text": [
            "Digite o valor do A: 2\n",
            "Digite o valor de B: 12\n",
            "Digite o valor de C: -14\n",
            "valor do x1:1.0\n",
            "valor do x2:-7.0\n"
          ]
        }
      ]
    },
    {
      "cell_type": "markdown",
      "source": [
        "Faça um algoritmo que leia 3 valores a, b, c, e verifique se podem ser os\n",
        "comprimentos dos lados de um triângulo. Em caso afirmativo, verifique se é “triângulo equilátero”, “triângulo isósceles” ou “triângulo escaleno”. Em caso negativo, escreva\n",
        "uma mensagem:\n",
        "\n",
        " “os valores lidos não formam um triângulo”.\n",
        "\n",
        " considere que:\n",
        "\n",
        "• o comprimento de cada lado de um triângulo é menor que a soma dos\n",
        "comprimentos dos outros lados\n",
        "\n",
        "• um triângulo equilátero tem três lados iguais\n",
        "\n",
        "• um triângulo isósceles tem dois lados iguais e um diferente\n",
        "\n",
        "• um triângulo escaleno tem três lados diferentes."
      ],
      "metadata": {
        "id": "8jtdk9aMWuMo"
      }
    },
    {
      "cell_type": "code",
      "source": [
        "a = float(input(\"Digite um valor: \"))\n",
        "b = float(input(\"Digite um valor: \"))\n",
        "c = float(input(\"Digite um valor: \"))\n",
        "\n",
        "if a < (b + c) and b < (a + c) and c < (b + a):\n",
        "    if a == b and b == c and c == a:\n",
        "      print(\"Triangulo Equilatero\")\n",
        "    elif a == b or b == c and a == c:\n",
        "      print(\"Triangulo isosceles\")\n",
        "    else:\n",
        "      print(\"Triangulo escaleno\")\n",
        "else:\n",
        "  print(\"Os valores lidos nao formam um triangulo\")"
      ],
      "metadata": {
        "colab": {
          "base_uri": "https://localhost:8080/"
        },
        "id": "c253FTMhXKGA",
        "outputId": "4cbb9010-5ebb-43f1-9b68-3e94c03cd4e1"
      },
      "execution_count": null,
      "outputs": [
        {
          "output_type": "stream",
          "name": "stdout",
          "text": [
            "Digite um valor: 3\n",
            "Digite um valor: 3\n",
            "Digite um valor: 1\n",
            "Triangulo isosceles\n"
          ]
        }
      ]
    },
    {
      "cell_type": "markdown",
      "source": [
        "Escreva um algoritmo que leia 4 valores (opção, a, b, c), onde opção é um valor\n",
        "inteiro e positivo e a, b, c são quaisquer valores reais. Escreva os valores lidos da\n",
        "seguinte maneira:\n",
        "\n",
        "se opção = 1 => escreva os 3 valores a, b, c em ordem crescente\n",
        "\n",
        "se opção = 2 => escreva os 3 valores a, b, c em ordem decrescente\n",
        "\n",
        "se opção = 3 => escreva os 3 valores de forma que o maior valor entre a, b, c fica\n",
        "entre os outros 2."
      ],
      "metadata": {
        "id": "6RajVPecxEro"
      }
    },
    {
      "cell_type": "code",
      "source": [
        "\n",
        "opcao = int(input(\"Digite a opção (1 para ordem crescente, 2 para ordem decrescente, 3 para o maior valor no meio): \"))\n",
        "a = float(input(\"Digite o valor de a: \"))\n",
        "b = float(input(\"Digite o valor de b: \"))\n",
        "c = float(input(\"Digite o valor de c: \"))\n",
        "\n",
        "if opcao == 1:\n",
        "    if a <= b <= c:\n",
        "        print(a, b, c)\n",
        "    elif a <= c <= b:\n",
        "        print(a, c, b)\n",
        "    elif b <= a <= c:\n",
        "        print(b, a, c)\n",
        "    elif b <= c <= a:\n",
        "        print(b, c, a)\n",
        "    elif c <= a <= b:\n",
        "        print(c, a, b)\n",
        "    else:\n",
        "        print(c, b, a)\n",
        "elif opcao == 2:\n",
        "    if a >= b >= c:\n",
        "        print(a, b, c)\n",
        "    elif a >= c >= b:\n",
        "        print(a, c, b)\n",
        "    elif b >= a >= c:\n",
        "        print(b, a, c)\n",
        "    elif b >= c >= a:\n",
        "        print(b, c, a)\n",
        "    elif c >= a >= b:\n",
        "        print(c, a, b)\n",
        "    else:\n",
        "        print(c, b, a)\n",
        "elif opcao == 3:\n",
        "    if a >= b and a >= c:\n",
        "        if b >= c:\n",
        "            print(b, a, c)\n",
        "        else:\n",
        "            print(c, a, b)\n",
        "    elif b >= a and b >= c:\n",
        "        if a >= c:\n",
        "            print(a, b, c)\n",
        "        else:\n",
        "            print(c, b, a)\n",
        "    else:\n",
        "        if a >= b:\n",
        "            print(a, c, b)\n",
        "        else:\n",
        "            print(b, c, a)\n",
        "else:\n",
        "    print(\"Opção inválida.\")\n"
      ],
      "metadata": {
        "id": "q5chev4pxNXw",
        "colab": {
          "base_uri": "https://localhost:8080/"
        },
        "outputId": "b12ca38e-e2b0-42f4-b805-2400614b445e"
      },
      "execution_count": 7,
      "outputs": [
        {
          "output_type": "stream",
          "name": "stdout",
          "text": [
            "Digite a opção (1 para ordem crescente, 2 para ordem decrescente, 3 para o maior valor no meio): 2\n",
            "Digite o valor de a: 13\n",
            "Digite o valor de b: 17\n",
            "Digite o valor de c: 22\n",
            "22.0 17.0 13.0\n"
          ]
        }
      ]
    },
    {
      "cell_type": "markdown",
      "source": [
        "Uma empresa decidiu conceder um aumento de salário a seus funcionários de acordo\n",
        "com a tabela:\n",
        "\n",
        "em R$ Índice de\n",
        "Aumento\n",
        "salário £ 400.00 15%\n",
        "400.00 < salário £ 700.00 12%\n",
        "700.00 < salário £ 1000.00 10%\n",
        "1000.00 < salário £ 1500.00 7%\n",
        "1500.00 < salário £ 2000.00 4%\n",
        "salário > 2000.00 sem aumento\n",
        "\n",
        "Faça um algoritmo que leia o salário atual de um funcionário e escreva o índice de\n",
        "aumento e o valor do salário corrigido."
      ],
      "metadata": {
        "id": "s-glzdw4zdXF"
      }
    },
    {
      "cell_type": "code",
      "source": [
        "\n",
        "salario = float(input(\"Digite o salário atual do funcionário: \"))\n",
        "\n",
        "if salario <= 400:\n",
        "    indice = 0.15\n",
        "elif salario <= 700:\n",
        "    indice = 0.12\n",
        "elif salario <= 1000:\n",
        "    indice = 0.10\n",
        "elif salario <= 1500:\n",
        "    indice = 0.07\n",
        "elif salario <= 2000:\n",
        "    indice = 0.04\n",
        "else:\n",
        "    indice = 0\n",
        "\n",
        "salario_corrigido = salario + salario * indice\n",
        "\n",
        "if indice > 0:\n",
        "    print(f\"O índice de aumento é de {indice*100:.2f}%.\")\n",
        "    print(f\"O salário corrigido é de R${salario_corrigido:.2f}.\")\n",
        "else:\n",
        "    print(\"O salário não terá aumento.\")\n"
      ],
      "metadata": {
        "colab": {
          "base_uri": "https://localhost:8080/"
        },
        "id": "rW5ZRF7czeFO",
        "outputId": "7929aa9c-abda-4a39-8dfc-7b94dca05624"
      },
      "execution_count": 8,
      "outputs": [
        {
          "output_type": "stream",
          "name": "stdout",
          "text": [
            "Digite o salário atual do funcionário: 1200\n",
            "O índice de aumento é de 7.00%.\n",
            "O salário corrigido é de R$1284.00.\n"
          ]
        }
      ]
    },
    {
      "cell_type": "markdown",
      "source": [
        "Faça um algoritmo para calcular o reajuste salarial de um funcionário, de acordo com\n",
        "os critérios abaixo:\n",
        "• se salário é inferior a R$ 10.000,00 deve ter um reajuste de 55%\n",
        "• se salário está entre R$ 10.000,00 (inclusive) e R$ 25.000,00 (inclusive) deve ter\n",
        "um reajuste de 20%\n",
        "• se salário é superior a R$ 25.000,00 deve ter um reajuste de 20%."
      ],
      "metadata": {
        "id": "vkPG08Lk0xa_"
      }
    },
    {
      "cell_type": "code",
      "source": [
        "\n",
        "salario_atual = float(input(\"Digite o salário atual do funcionário: \"))\n",
        "\n",
        "\n",
        "if salario_atual < 10000:\n",
        "    reajuste = 0.55\n",
        "elif salario_atual <= 25000:\n",
        "    reajuste = 0.2\n",
        "else:\n",
        "    reajuste = 0\n",
        "\n",
        "\n",
        "if reajuste > 0:\n",
        "    novo_salario = salario_atual + (salario_atual * reajuste)\n",
        "    print(f\"O funcionário terá um reajuste de {reajuste*100:.0f}%, passando a ganhar R${novo_salario:.2f}.\")\n",
        "else:\n",
        "    print(\"O funcionário não terá reajuste salarial.\")\n"
      ],
      "metadata": {
        "id": "Dt03AEsQ1Gz8"
      },
      "execution_count": null,
      "outputs": []
    },
    {
      "cell_type": "markdown",
      "source": [
        "Faça um algoritmo para controle de temperatura de um forno que derrete alumínio. O\n",
        "programa deverá perguntar qual a temperatura que o alumínio deverá ser trabalhado e\n",
        "operar nas seguintes condições:\n",
        "\n",
        "• Se temperatura for inferior ou igual 500°C enviar uma mensagem para tela\n",
        "\"Temperatura Inválida\";\n",
        "\n",
        "• Se temperatura for menor do que 700°C enviar uma mensagem para tela\n",
        "\"Aquecimento Ligado em 100%\";\n",
        "\n",
        "• Se temperatura for menor do que 735°C enviar uma mensagem para tela\n",
        "\"Aquecimento Ligado em 50%\";\n",
        "\n",
        "• Se temperatura for maior ou igual 735°C enviar uma mensagem para tela\n",
        "\"Aquecimento Desligado\";\n",
        "\n",
        "Se temperatura for maior do que 780°C enviar uma mensagem para tela\n",
        "\"Superaquecimento\";\n",
        "\n",
        "Os valores digitados devem ser inteiros e inferiores a 1000."
      ],
      "metadata": {
        "id": "s_chE9QO1KsC"
      }
    },
    {
      "cell_type": "code",
      "source": [
        "\n",
        "temperatura = int(input(\"Digite a temperatura desejada (em graus Celsius): \"))\n",
        "\n",
        "if temperatura <= 500:\n",
        "    print(\"Temperatura Inválida\")\n",
        "elif temperatura < 700:\n",
        "    print(\"Aquecimento Ligado em 100%\")\n",
        "elif temperatura < 735:\n",
        "    print(\"Aquecimento Ligado em 50%\")\n",
        "elif temperatura < 780:\n",
        "    print(\"Aquecimento Desligado\")\n",
        "else:\n",
        "    print(\"Superaquecimento\")\n"
      ],
      "metadata": {
        "id": "-cG_F_VT1NIh"
      },
      "execution_count": null,
      "outputs": []
    },
    {
      "cell_type": "markdown",
      "source": [
        "Faça um algoritmo que permita a entrada de um valor de 1 a 4. Em seguida, leia dois\n",
        "valores. Calcular e imprimir:\n",
        "\n",
        "• Se valor digitado for 0, calcular e exibir a soma dos números\n",
        "\n",
        "• Se valor digitado for 1, calcular e exibir a subtração dos números\n",
        "\n",
        "• Se valor digitado for 2, calcular e exibir a multiplicação dos números\n",
        "\n",
        "• Se valor digitado for 3, calcular e exibir a divisão dos números\n",
        "\n",
        "• Se valor digitado for 4, calcular e exibir a média dos números\n",
        "\n",
        "• Diferente de 1,2,3 ou 4, exibir a mensagem “Valor errado. Programa encerrado sem\n",
        "cálculos”"
      ],
      "metadata": {
        "id": "18M-VvV21_sx"
      }
    },
    {
      "cell_type": "code",
      "source": [
        "\n",
        "operacao = int(input(\"Digite um valor de 1 a 4: \"))\n",
        "\n",
        "if operacao >= 0 and operacao <= 4:\n",
        "    numero1 = float(input(\"Digite o primeiro número: \"))\n",
        "    numero2 = float(input(\"Digite o segundo número: \"))\n",
        "\n",
        "    if operacao == 0:\n",
        "        resultado = numero1 + numero2\n",
        "        print(\"A soma dos números é:\", resultado)\n",
        "    elif operacao == 1:\n",
        "        resultado = numero1 - numero2\n",
        "        print(\"A subtração dos números é:\", resultado)\n",
        "    elif operacao == 2:\n",
        "        resultado = numero1 * numero2\n",
        "        print(\"A multiplicação dos números é:\", resultado)\n",
        "    elif operacao == 3:\n",
        "        resultado = numero1 / numero2\n",
        "        print(\"A divisão dos números é:\", resultado)\n",
        "    elif operacao == 4:\n",
        "        resultado = (numero1 + numero2) / 2\n",
        "        print(\"A média dos números é:\", resultado)\n",
        "else:\n",
        "    print(\"Valor errado. Programa encerrado sem cálculos\")\n"
      ],
      "metadata": {
        "id": "vhhYy2_92PHY"
      },
      "execution_count": null,
      "outputs": []
    },
    {
      "cell_type": "markdown",
      "source": [
        "Escrever um algoritmo que leia valores inteiros em duas variáveis distintas e se o resto\n",
        "da divisão da primeira pela segunda for 1 mostre a soma dessas variáveis mais o resto\n",
        "da divisão; se for 2 escreva se o primeiro e o segundo valor são pares ou ímpares; se\n",
        "for igual a 3 multiplique a soma dos valores lidos pelo primeiro; se for igual a 4 divida\n",
        "a soma dos números lidos pelo segundo, se este for diferente de zero. Em qualquer\n",
        "outra situação mostre o quadrado dos números lidos."
      ],
      "metadata": {
        "id": "8DoagEFa2Ucr"
      }
    },
    {
      "cell_type": "code",
      "source": [
        "a = int(input(\"Digite o primeiro número inteiro: \"))\n",
        "b = int(input(\"Digite o segundo número inteiro: \"))\n",
        "\n",
        "if a % b == 1:\n",
        "    resultado = a + b + (a % b)\n",
        "    print(f\"A soma de {a}, {b} e o resto da divisão é {resultado}\")\n",
        "    \n",
        "elif a % b == 2:\n",
        "    if a % 2 == 0:\n",
        "        print(f\"{a} é par\")\n",
        "    else:\n",
        "        print(f\"{a} é ímpar\")\n",
        "        \n",
        "    if b % 2 == 0:\n",
        "        print(f\"{b} é par\")\n",
        "    else:\n",
        "        print(f\"{b} é ímpar\")\n",
        "        \n",
        "elif a % b == 3:\n",
        "    resultado = (a + b) * a\n",
        "    print(f\"O resultado da multiplicação da soma de {a} e {b} pelo primeiro valor é {resultado}\")\n",
        "    \n",
        "elif a % b == 4:\n",
        "    if b != 0:\n",
        "        resultado = (a + b) / b\n",
        "        print(f\"O resultado da divisão da soma de {a} e {b} pelo segundo valor é {resultado}\")\n",
        "    else:\n",
        "        print(\"Impossível dividir por zero!\")\n",
        "        \n",
        "else:\n",
        "    print(f\"O quadrado de {a} é {a**2} e o quadrado de {b} é {b**2}\")\n"
      ],
      "metadata": {
        "id": "RC_91key2Wwr"
      },
      "execution_count": null,
      "outputs": []
    },
    {
      "cell_type": "markdown",
      "source": [
        "Escreva um algoritmo que leia as idades de 2 homens e 2 mulheres (considere que as\n",
        "idades dos homens serão sempre diferentes, bem como as das mulheres). Calcule e\n",
        "escreva a soma das idades do homem mais velho com a mulher mais nova, e o\n",
        "produto das idades do homem mais novo com a mulher mais velha."
      ],
      "metadata": {
        "id": "7GOWPq1U2hu1"
      }
    },
    {
      "cell_type": "code",
      "source": [
        "\n",
        "idade_homem1 = int(input(\"Digite a idade do primeiro homem: \"))\n",
        "idade_homem2 = int(input(\"Digite a idade do segundo homem: \"))\n",
        "idade_mulher1 = int(input(\"Digite a idade da primeira mulher: \"))\n",
        "idade_mulher2 = int(input(\"Digite a idade da segunda mulher: \"))\n",
        "\n",
        "idade_homem_mais_velho = max(idade_homem1, idade_homem2)\n",
        "idade_mulher_mais_nova = min(idade_mulher1, idade_mulher2)\n",
        "\n",
        "soma_idades = idade_homem_mais_velho + idade_mulher_mais_nova\n",
        "\n",
        "idade_homem_mais_novo = min(idade_homem1, idade_homem2)\n",
        "idade_mulher_mais_velha = max(idade_mulher1, idade_mulher2)\n",
        "produto_idades = idade_homem_mais_novo * idade_mulher_mais_velha\n",
        "\n",
        "print(\"A soma das idades do homem mais velho com a mulher mais nova é:\", soma_idades)\n",
        "print(\"O produto das idades do homem mais novo com a mulher mais velha é:\", produto_idades)\n"
      ],
      "metadata": {
        "id": "ggxrfs8a2kr8"
      },
      "execution_count": null,
      "outputs": []
    },
    {
      "cell_type": "markdown",
      "source": [
        "Existem números de 4 dígitos (entre 1000 e 9999) que obedecem à seguinte\n",
        "característica: se dividirmos o número em dois números de dois dígitos, um composto\n",
        "pela dezena e pela unidade, e outro pelo milhar e pela centena, e, ao somarmos estes\n",
        "dois novos números gerando um terceiro, o quadrado deste terceiro número é\n",
        "exatamente o número original de quatro dígitos. Por exemplo:\n",
        "2025 -> dividindo: 20 e 25 -> somando temos 45 -> 452 = 2025.\n",
        "Escreva um programa para ler um número e verificar se ele obedece a esta\n",
        "característica."
      ],
      "metadata": {
        "id": "MxqyhdG12ypk"
      }
    },
    {
      "cell_type": "code",
      "source": [
        "num = int(input(\"Digite um número de 4 dígitos: \"))\n",
        "\n",
        "milhar = num // 1000\n",
        "centena = (num % 1000) // 100\n",
        "dezena = (num % 100) // 10\n",
        "unidade = num % 10\n",
        "\n",
        "soma = (milhar*10 + centena) + (dezena*10 + unidade)\n",
        "quadrado_soma = soma ** 2\n",
        "\n",
        "if num == quadrado_soma:\n",
        "    print(\"O número digitado obedece à característica.\")\n",
        "else:\n",
        "    print(\"O número digitado não obedece à característica.\")\n",
        "\n"
      ],
      "metadata": {
        "colab": {
          "base_uri": "https://localhost:8080/"
        },
        "id": "aX8HiT8H3Nik",
        "outputId": "675ecc66-6a51-4560-87b0-fb7670e8cc55"
      },
      "execution_count": 10,
      "outputs": [
        {
          "output_type": "stream",
          "name": "stdout",
          "text": [
            "Digite um número de 4 dígitos: 1000\n",
            "O número digitado não obedece à característica.\n"
          ]
        }
      ]
    }
  ]
}