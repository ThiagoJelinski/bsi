{
  "nbformat": 4,
  "nbformat_minor": 0,
  "metadata": {
    "colab": {
      "provenance": [],
      "authorship_tag": "ABX9TyNX+M8uoNZULhK6zExOPL6g",
      "include_colab_link": true
    },
    "kernelspec": {
      "name": "python3",
      "display_name": "Python 3"
    },
    "language_info": {
      "name": "python"
    }
  },
  "cells": [
    {
      "cell_type": "markdown",
      "metadata": {
        "id": "view-in-github",
        "colab_type": "text"
      },
      "source": [
        "<a href=\"https://colab.research.google.com/github/ThiagoJelinski/bsi/blob/master/Lista_decisao.ipynb\" target=\"_parent\"><img src=\"https://colab.research.google.com/assets/colab-badge.svg\" alt=\"Open In Colab\"/></a>"
      ]
    },
    {
      "cell_type": "markdown",
      "source": [
        "Ler um valor e escrever se é positivo, negativo ou zero."
      ],
      "metadata": {
        "id": "cPFAxyuDKpfu"
      }
    },
    {
      "cell_type": "code",
      "source": [
        "n = float(input(\"Digite um valor: \"))\n",
        "\n",
        "if n > 0:\n",
        "  print(f\"O valor {n} é positivo\")\n",
        "elif n < 0:\n",
        "  print(f\"O valor {n} é negativo\")\n",
        "else:\n",
        "  print(f\"O valor {n} é igual a zero\")"
      ],
      "metadata": {
        "colab": {
          "base_uri": "https://localhost:8080/"
        },
        "id": "7dPxXQ4EKs0U",
        "outputId": "3c54ea55-ae9c-4ab5-cd5f-6cff2ce1b472"
      },
      "execution_count": 4,
      "outputs": [
        {
          "output_type": "stream",
          "name": "stdout",
          "text": [
            "Digite um valor: -5\n",
            "O valor -5.0 é negativo\n"
          ]
        }
      ]
    },
    {
      "cell_type": "markdown",
      "source": [
        "Ler um valor e escrever a mensagem É MAIOR QUE 10! se o valor lido for maior que 10,\n",
        "caso contrário escrever NÃO É MAIOR QUE 10!"
      ],
      "metadata": {
        "id": "aZc1tMekL-Mv"
      }
    },
    {
      "cell_type": "code",
      "source": [
        "n = float(input(\"Digite um valor: \"))\n",
        "\n",
        "if n >= 10:\n",
        "  print(\"É maior ou igual que 10!\")\n",
        "else:\n",
        "  print(\"Não é maior que 10!\")"
      ],
      "metadata": {
        "colab": {
          "base_uri": "https://localhost:8080/"
        },
        "id": "Mb6ES3LIMAAq",
        "outputId": "50adb8fc-9b76-46c3-edcc-a247eb49162a"
      },
      "execution_count": 7,
      "outputs": [
        {
          "output_type": "stream",
          "name": "stdout",
          "text": [
            "Digite um valor: 10\n",
            "É maior ou igual que 10!\n"
          ]
        }
      ]
    },
    {
      "cell_type": "markdown",
      "source": [
        "Calcule a soma de dois números, se o resultado for maior que 10, mostre-o na tela."
      ],
      "metadata": {
        "id": "Q-Z8LR6INA_P"
      }
    },
    {
      "cell_type": "code",
      "source": [
        "n1 = float(input(\"Digite um valor: \"))\n",
        "n2 = float(input(\"Digite um valor: \"))\n",
        "\n",
        "soma = n1 + n2\n",
        "\n",
        "if soma > 10:\n",
        "  print(f\"O resultado da soma é de {soma}\")"
      ],
      "metadata": {
        "colab": {
          "base_uri": "https://localhost:8080/"
        },
        "id": "rg6FRQDTNDHI",
        "outputId": "63418c7d-f4dd-4ac0-adc5-cf4e9046953e"
      },
      "execution_count": 9,
      "outputs": [
        {
          "name": "stdout",
          "output_type": "stream",
          "text": [
            "Digite um valor: 5\n",
            "Digite um valor: 5\n"
          ]
        }
      ]
    },
    {
      "cell_type": "markdown",
      "source": [
        "Entrar com um número e informar se ele é divisível por 5."
      ],
      "metadata": {
        "id": "zpwdapWYNjum"
      }
    },
    {
      "cell_type": "code",
      "source": [
        "n = float(input(\"Digite um valor: \"))\n",
        "\n",
        "if n % 5 == 0:\n",
        "  print(\"O valor informado é divisel por 5\")\n",
        "else:\n",
        "  print(\"O valor informado não é divisel por 5\")"
      ],
      "metadata": {
        "colab": {
          "base_uri": "https://localhost:8080/"
        },
        "id": "CZrfrfUjNoDl",
        "outputId": "fe722a63-027d-4de8-8282-f62dfda9e30e"
      },
      "execution_count": 11,
      "outputs": [
        {
          "output_type": "stream",
          "name": "stdout",
          "text": [
            "Digite um valor: 10\n",
            "O valor informado é divisel por 5\n"
          ]
        }
      ]
    },
    {
      "cell_type": "markdown",
      "source": [
        "Construir um algoritmo que indique se o número digitado está entre 20 e 90 ou não."
      ],
      "metadata": {
        "id": "Xi7WFZclOfe-"
      }
    },
    {
      "cell_type": "code",
      "source": [
        "n = float(input(\"Digite um valor: \"))\n",
        "\n",
        "if n > 20 and n < 90:\n",
        "  print(\"O numero digitado esta entre 20 e 90\")\n",
        "else:\n",
        "  print(\"O numero digitado nao esta entere 20 e 90\")"
      ],
      "metadata": {
        "colab": {
          "base_uri": "https://localhost:8080/"
        },
        "id": "-1AAZnZwOihl",
        "outputId": "ca68e52f-ab30-4ced-c178-a83311b2fd42"
      },
      "execution_count": 13,
      "outputs": [
        {
          "output_type": "stream",
          "name": "stdout",
          "text": [
            "Digite um valor: 1\n",
            "O numero digitado nao esta entere 20 e 90\n"
          ]
        }
      ]
    },
    {
      "cell_type": "markdown",
      "source": [
        "Ler o ano atual e o ano de nascimento de uma pessoa. Escrever uma mensagem que\n",
        "diga se ela poderá ou não votar este ano (não é necessário considerar o mês em que a\n",
        "pessoa nasceu)."
      ],
      "metadata": {
        "id": "8yO0pMTUO_hP"
      }
    },
    {
      "cell_type": "code",
      "source": [
        "anoAt = int(input(\"Digite o ano atual: \"))\n",
        "anoNs = int(input(\"Digite o ano em qual nasceu: \"))\n",
        "\n",
        "if anoAt - anoNs >= 16:\n",
        "  print(\"Este ano você podera votar!\")\n",
        "else:\n",
        "  print(\"Este ano você não podera votar!\")\n",
        "  "
      ],
      "metadata": {
        "colab": {
          "base_uri": "https://localhost:8080/"
        },
        "id": "IICL3ThRPDE3",
        "outputId": "1295e6d7-795b-4094-95c4-3562b1b930e9"
      },
      "execution_count": 14,
      "outputs": [
        {
          "output_type": "stream",
          "name": "stdout",
          "text": [
            "Digite o ano atual: 2023\n",
            "Digite o ano em qual nasceu: 2007\n",
            "Este ano você podera votar!\n"
          ]
        }
      ]
    },
    {
      "cell_type": "markdown",
      "source": [
        "Entrar com o ano de nascimento de uma pessoa e imprimir a idade dela. Verificar se o\n",
        "ano digitado é válido."
      ],
      "metadata": {
        "id": "Aw4TxgSHQcZq"
      }
    },
    {
      "cell_type": "code",
      "source": [
        "ano = int(input(\"Digite o ano de nascimento: \"))\n",
        "\n",
        "if ano > 0 and ano <= 2023:\n",
        "  print(f\"Sua idade é {2023 - ano}\")\n",
        "else:\n",
        "  print(\"O ano digitado não é valido\")"
      ],
      "metadata": {
        "id": "uy9649IjQlzF"
      },
      "execution_count": null,
      "outputs": []
    },
    {
      "cell_type": "markdown",
      "source": [
        "Entrar com a idade de uma pessoa e exibir a mensagem; Maior de idade, menor de\n",
        "idade ou acima de 65 anos."
      ],
      "metadata": {
        "id": "4ZF6hwvLR7tU"
      }
    },
    {
      "cell_type": "code",
      "source": [
        "idade = float(input(\"Digite sua idade: \"))\n",
        "\n",
        "if idade >= 18 and idade <= 65:\n",
        "  print(\"Maior de idade\")\n",
        "elif idade < 18:\n",
        "  print(\"Menor de idade\")\n",
        "else:\n",
        "  print(\"Acima de 65 anos\")"
      ],
      "metadata": {
        "colab": {
          "base_uri": "https://localhost:8080/"
        },
        "id": "d5yHpZ0yR-G0",
        "outputId": "0a36d7c5-4d4c-45ef-d1b8-40883d385747"
      },
      "execution_count": 26,
      "outputs": [
        {
          "output_type": "stream",
          "name": "stdout",
          "text": [
            "Digite sua idade: 18\n",
            "Maior de idade\n"
          ]
        }
      ]
    },
    {
      "cell_type": "markdown",
      "source": [
        "Ler as notas da 1a\n",
        ". e 2a\n",
        ". avaliações de um aluno. Calcular a média aritmética simples e\n",
        "escrever uma mensagem que diga se o aluno foi ou não aprovado (considerar que se a\n",
        "nota for igual ou maior que 6 o aluno é aprovado). Escrever também a média\n",
        "calculada."
      ],
      "metadata": {
        "id": "LD-rIyZRTcB0"
      }
    },
    {
      "cell_type": "code",
      "source": [
        "n1 = float(input(\"Digite sua primeira nota: \"))\n",
        "n2 = float(input(\"Digite sua segunda nota: \"))\n",
        "\n",
        "if (n1 + n2) / 2 >= 6:\n",
        "  print(f\"Você foi aprovado!\\nSua media é {(n1 + n2) /2}\")\n",
        "else:\n",
        "  print(f\"Vocẽ foi reprovado!\\nSua media é {(n1 + n2)/2}\")\n"
      ],
      "metadata": {
        "colab": {
          "base_uri": "https://localhost:8080/"
        },
        "id": "MMBF3uUVTdlH",
        "outputId": "8bed6486-2227-4460-8808-b0483e294d79"
      },
      "execution_count": 27,
      "outputs": [
        {
          "output_type": "stream",
          "name": "stdout",
          "text": [
            "Digite sua primeira nota: 6\n",
            "Digite sua segunda nota: 6\n",
            "Você foi aprovado!\n",
            "Sua media é 6.0\n"
          ]
        }
      ]
    },
    {
      "cell_type": "markdown",
      "source": [
        "Escrever um algoritmo para ler duas notas de um aluno e escrever na tela a palavra\n",
        "“Aprovado” se a média das duas notas for maior ou igual a 7,0. Caso a média seja\n",
        "inferior a 7,0, o programa deve ler a nota do exame e calcular a média final. Se esta\n",
        "média for maior ou igual a 5,0, o programa deve escrever “Aprovado”, caso contrário\n",
        "deve escrever “Reprovado”."
      ],
      "metadata": {
        "id": "j9TWs8qLU8rT"
      }
    },
    {
      "cell_type": "code",
      "source": [
        "n1 = float(input(\"Digite sua primeira nota: \"))\n",
        "n2 = float(input(\"Digite sua segunda nota: \"))\n",
        "\n",
        "media = (n1 + n2) /2\n",
        "\n",
        "if media >= 7:\n",
        "  print(\"Você foi aprovado!\")\n",
        "else:\n",
        "  ex = float(input(\"Digite sua nota no exame: \"))\n",
        "  mediaEx = (media + ex) / 2\n",
        "  if mediaEx >= 5:\n",
        "    print(\"Aprovado em Exame!\")\n",
        "  else:\n",
        "    print(\"Reprovado!\")"
      ],
      "metadata": {
        "colab": {
          "base_uri": "https://localhost:8080/"
        },
        "id": "pu_dORmTVCKf",
        "outputId": "0cdbabd8-8921-43fe-a4c2-b4fbd28be36e"
      },
      "execution_count": 33,
      "outputs": [
        {
          "output_type": "stream",
          "name": "stdout",
          "text": [
            "Digite sua primeira nota: 5\n",
            "Digite sua segunda nota: 5\n",
            "Digite sua nota no exame: 5\n",
            "Aprovado em Exame!\n"
          ]
        }
      ]
    },
    {
      "cell_type": "markdown",
      "source": [
        "Escrever um algoritmo para ler a quantidade de horas aula dadas por dois professores\n",
        "e o valor por hora recebido por cada um. Mostrar na tela qual dos professores tem\n",
        "salário total maior."
      ],
      "metadata": {
        "id": "mPOO7yOBXoRz"
      }
    },
    {
      "cell_type": "code",
      "source": [
        "prof1 = float(input(\"Digite quantidade de horas dadas de aulas pelo primeiro professor: \"))\n",
        "prof2 = float(input(\"Digite quantidade de horas dadas de aulas pelo segundo professor: \"))\n",
        "valor1 = float(input(\"Digite quantos é o ganho por hora pelo primeiro professor: \"))\n",
        "valor2 = float(input(\"Digite quantos é o ganho por hora pelo segundo professor: \"))\n",
        "\n",
        "salario1 = prof1 * valor1\n",
        "salario2 = prof2 * valor2\n",
        "\n",
        "if salario1 > salario2:\n",
        "  print(\"O primeiro professor tem um salario maior!\")\n",
        "else:\n",
        "  print(\"O segundo professor tem um salario maior!\")"
      ],
      "metadata": {
        "colab": {
          "base_uri": "https://localhost:8080/"
        },
        "id": "6siB-3qRXcI7",
        "outputId": "392f9705-5bb7-4c2b-ae95-ea3158218603"
      },
      "execution_count": 34,
      "outputs": [
        {
          "output_type": "stream",
          "name": "stdout",
          "text": [
            "Digite quantidade de horas dadas de aulas pelo primeiro professor: 160\n",
            "Digite quantidade de horas dadas de aulas pelo segundo professor: 100\n",
            "Digite quantos é o ganho por hora pelo primeiro professor: 15\n",
            "Digite quantos é o ganho por hora pelo segundo professor: 15\n",
            "O primeiro professor tem um salario maior!\n"
          ]
        }
      ]
    },
    {
      "cell_type": "markdown",
      "source": [
        "Faça um algoritmo que leia um número inteiro e mostre uma mensagem indicando se\n",
        "este número é par ou ímpar."
      ],
      "metadata": {
        "id": "6H0ShL-VaJWi"
      }
    },
    {
      "cell_type": "code",
      "source": [
        "n = int(input(\"Digite um numero inteiro: \"))\n",
        "\n",
        "if n % 2 == 0:\n",
        "  print(\"este numero é par\")\n",
        "else:\n",
        "  print(\"este numero é impar\")"
      ],
      "metadata": {
        "colab": {
          "base_uri": "https://localhost:8080/"
        },
        "id": "ba24vvkBaLgF",
        "outputId": "cabd1b13-1098-4ef4-f356-ecab96fda46d"
      },
      "execution_count": 39,
      "outputs": [
        {
          "output_type": "stream",
          "name": "stdout",
          "text": [
            "Digite um numero inteiro: 527\n",
            "este numero é impar\n"
          ]
        }
      ]
    },
    {
      "cell_type": "markdown",
      "source": [
        "Ler o nome de 2 times e o número de gols marcados na partida. Escrever o nome do\n",
        "vencedor. Caso não haja vencedor deverá ser impressa a palavra EMPATE."
      ],
      "metadata": {
        "id": "zLlbFub0ao3Y"
      }
    },
    {
      "cell_type": "code",
      "source": [
        "time1 = input(\"Informe o nome do primeiro time: \")\n",
        "time2 = input(\"Informe o nome do segundo time: \")\n",
        "gol1 = int(input(f\"Digite a quantidade de gols do {time1}: \"))\n",
        "gol2 = int(input(f\"Digite a quantidade de gols do {time2}: \"))\n",
        "\n",
        "if gol1 > gol2:\n",
        "  print(f\"O {time1} é o vencedor!\")\n",
        "elif gol2 > gol1:\n",
        "  print(f\"O {time2} é o vencedor!\")\n",
        "else:\n",
        "  print(\"Empate!\")\n"
      ],
      "metadata": {
        "colab": {
          "base_uri": "https://localhost:8080/"
        },
        "id": "hr72_YpEathA",
        "outputId": "2ae7dbfe-a4d9-4bd4-e7e2-7338030882a3"
      },
      "execution_count": 41,
      "outputs": [
        {
          "output_type": "stream",
          "name": "stdout",
          "text": [
            "Informe o nome do primeiro time: flamengo\n",
            "Informe o nome do segundo time: jec\n",
            "Digite a quantidade de gols do flamengo: 0\n",
            "Digite a quantidade de gols do jec: 522\n",
            "O jec é o vencedor!\n"
          ]
        }
      ]
    },
    {
      "cell_type": "markdown",
      "source": [
        "Entrar com a sigla do estado de uma pessoa e imprimir uma das mensagens: “Carioca,\n",
        "Paulista, Mineiro ou Outros”"
      ],
      "metadata": {
        "id": "srQO8oKFb_w1"
      }
    },
    {
      "cell_type": "code",
      "source": [
        "sigla = input(\"Digite o estado no qual nasceu: \")\n",
        "\n",
        "match sigla:\n",
        "  case \"RJ\":\n",
        "    print(\"Carioca\")\n",
        "  case \"SP\":\n",
        "    print(\"Paulista\")\n",
        "  case \"MG\":\n",
        "    print(\"Mineiro\")\n",
        "default: print(\"Outros\")\n"
      ],
      "metadata": {
        "colab": {
          "base_uri": "https://localhost:8080/",
          "height": 130
        },
        "id": "MRqCRtZjcB9l",
        "outputId": "2eaea118-8e56-4353-f8e3-f321430d58d2"
      },
      "execution_count": 53,
      "outputs": [
        {
          "output_type": "error",
          "ename": "SyntaxError",
          "evalue": "ignored",
          "traceback": [
            "\u001b[0;36m  File \u001b[0;32m\"<ipython-input-53-5dd75f03f88a>\"\u001b[0;36m, line \u001b[0;32m3\u001b[0m\n\u001b[0;31m    match sigla:\u001b[0m\n\u001b[0m          ^\u001b[0m\n\u001b[0;31mSyntaxError\u001b[0m\u001b[0;31m:\u001b[0m invalid syntax\n"
          ]
        }
      ]
    }
  ]
}