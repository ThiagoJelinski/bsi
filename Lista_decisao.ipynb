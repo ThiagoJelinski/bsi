{
  "nbformat": 4,
  "nbformat_minor": 0,
  "metadata": {
    "colab": {
      "provenance": [],
      "authorship_tag": "ABX9TyMZdLMQPda7wgHQWVvvstZ/",
      "include_colab_link": true
    },
    "kernelspec": {
      "name": "python3",
      "display_name": "Python 3"
    },
    "language_info": {
      "name": "python"
    }
  },
  "cells": [
    {
      "cell_type": "markdown",
      "metadata": {
        "id": "view-in-github",
        "colab_type": "text"
      },
      "source": [
        "<a href=\"https://colab.research.google.com/github/ThiagoJelinski/bsi/blob/master/Lista_decisao.ipynb\" target=\"_parent\"><img src=\"https://colab.research.google.com/assets/colab-badge.svg\" alt=\"Open In Colab\"/></a>"
      ]
    },
    {
      "cell_type": "markdown",
      "source": [
        "Ler um valor e escrever se é positivo, negativo ou zero."
      ],
      "metadata": {
        "id": "cPFAxyuDKpfu"
      }
    },
    {
      "cell_type": "code",
      "source": [
        "n = float(input(\"Digite um valor: \"))\n",
        "\n",
        "if n > 0:\n",
        "  print(f\"O valor {n} é positivo\")\n",
        "elif n < 0:\n",
        "  print(f\"O valor {n} é negativo\")\n",
        "else:\n",
        "  print(f\"O valor {n} é igual a zero\")"
      ],
      "metadata": {
        "colab": {
          "base_uri": "https://localhost:8080/"
        },
        "id": "7dPxXQ4EKs0U",
        "outputId": "3c54ea55-ae9c-4ab5-cd5f-6cff2ce1b472"
      },
      "execution_count": null,
      "outputs": [
        {
          "output_type": "stream",
          "name": "stdout",
          "text": [
            "Digite um valor: -5\n",
            "O valor -5.0 é negativo\n"
          ]
        }
      ]
    },
    {
      "cell_type": "markdown",
      "source": [
        "Ler um valor e escrever a mensagem É MAIOR QUE 10! se o valor lido for maior que 10,\n",
        "caso contrário escrever NÃO É MAIOR QUE 10!"
      ],
      "metadata": {
        "id": "aZc1tMekL-Mv"
      }
    },
    {
      "cell_type": "code",
      "source": [
        "n = float(input(\"Digite um valor: \"))\n",
        "\n",
        "if n >= 10:\n",
        "  print(\"É maior ou igual que 10!\")\n",
        "else:\n",
        "  print(\"Não é maior que 10!\")"
      ],
      "metadata": {
        "colab": {
          "base_uri": "https://localhost:8080/"
        },
        "id": "Mb6ES3LIMAAq",
        "outputId": "50adb8fc-9b76-46c3-edcc-a247eb49162a"
      },
      "execution_count": null,
      "outputs": [
        {
          "output_type": "stream",
          "name": "stdout",
          "text": [
            "Digite um valor: 10\n",
            "É maior ou igual que 10!\n"
          ]
        }
      ]
    },
    {
      "cell_type": "markdown",
      "source": [
        "Calcule a soma de dois números, se o resultado for maior que 10, mostre-o na tela."
      ],
      "metadata": {
        "id": "Q-Z8LR6INA_P"
      }
    },
    {
      "cell_type": "code",
      "source": [
        "n1 = float(input(\"Digite um valor: \"))\n",
        "n2 = float(input(\"Digite um valor: \"))\n",
        "\n",
        "soma = n1 + n2\n",
        "\n",
        "if soma > 10:\n",
        "  print(f\"O resultado da soma é de {soma}\")"
      ],
      "metadata": {
        "colab": {
          "base_uri": "https://localhost:8080/"
        },
        "id": "rg6FRQDTNDHI",
        "outputId": "63418c7d-f4dd-4ac0-adc5-cf4e9046953e"
      },
      "execution_count": null,
      "outputs": [
        {
          "name": "stdout",
          "output_type": "stream",
          "text": [
            "Digite um valor: 5\n",
            "Digite um valor: 5\n"
          ]
        }
      ]
    },
    {
      "cell_type": "markdown",
      "source": [
        "Entrar com um número e informar se ele é divisível por 5."
      ],
      "metadata": {
        "id": "zpwdapWYNjum"
      }
    },
    {
      "cell_type": "code",
      "source": [
        "n = float(input(\"Digite um valor: \"))\n",
        "\n",
        "if n % 5 == 0:\n",
        "  print(\"O valor informado é divisel por 5\")\n",
        "else:\n",
        "  print(\"O valor informado não é divisel por 5\")"
      ],
      "metadata": {
        "colab": {
          "base_uri": "https://localhost:8080/"
        },
        "id": "CZrfrfUjNoDl",
        "outputId": "fe722a63-027d-4de8-8282-f62dfda9e30e"
      },
      "execution_count": null,
      "outputs": [
        {
          "output_type": "stream",
          "name": "stdout",
          "text": [
            "Digite um valor: 10\n",
            "O valor informado é divisel por 5\n"
          ]
        }
      ]
    },
    {
      "cell_type": "markdown",
      "source": [
        "Construir um algoritmo que indique se o número digitado está entre 20 e 90 ou não."
      ],
      "metadata": {
        "id": "Xi7WFZclOfe-"
      }
    },
    {
      "cell_type": "code",
      "source": [
        "n = float(input(\"Digite um valor: \"))\n",
        "\n",
        "if n > 20 and n < 90:\n",
        "  print(\"O numero digitado esta entre 20 e 90\")\n",
        "else:\n",
        "  print(\"O numero digitado nao esta entere 20 e 90\")"
      ],
      "metadata": {
        "colab": {
          "base_uri": "https://localhost:8080/"
        },
        "id": "-1AAZnZwOihl",
        "outputId": "ca68e52f-ab30-4ced-c178-a83311b2fd42"
      },
      "execution_count": null,
      "outputs": [
        {
          "output_type": "stream",
          "name": "stdout",
          "text": [
            "Digite um valor: 1\n",
            "O numero digitado nao esta entere 20 e 90\n"
          ]
        }
      ]
    },
    {
      "cell_type": "markdown",
      "source": [
        "Ler o ano atual e o ano de nascimento de uma pessoa. Escrever uma mensagem que\n",
        "diga se ela poderá ou não votar este ano (não é necessário considerar o mês em que a\n",
        "pessoa nasceu)."
      ],
      "metadata": {
        "id": "8yO0pMTUO_hP"
      }
    },
    {
      "cell_type": "code",
      "source": [
        "anoAt = int(input(\"Digite o ano atual: \"))\n",
        "anoNs = int(input(\"Digite o ano em qual nasceu: \"))\n",
        "\n",
        "if anoAt - anoNs >= 16:\n",
        "  print(\"Este ano você podera votar!\")\n",
        "else:\n",
        "  print(\"Este ano você não podera votar!\")\n",
        "  "
      ],
      "metadata": {
        "colab": {
          "base_uri": "https://localhost:8080/"
        },
        "id": "IICL3ThRPDE3",
        "outputId": "1295e6d7-795b-4094-95c4-3562b1b930e9"
      },
      "execution_count": null,
      "outputs": [
        {
          "output_type": "stream",
          "name": "stdout",
          "text": [
            "Digite o ano atual: 2023\n",
            "Digite o ano em qual nasceu: 2007\n",
            "Este ano você podera votar!\n"
          ]
        }
      ]
    },
    {
      "cell_type": "markdown",
      "source": [
        "Entrar com o ano de nascimento de uma pessoa e imprimir a idade dela. Verificar se o\n",
        "ano digitado é válido."
      ],
      "metadata": {
        "id": "Aw4TxgSHQcZq"
      }
    },
    {
      "cell_type": "code",
      "source": [
        "ano = int(input(\"Digite o ano de nascimento: \"))\n",
        "\n",
        "if ano > 0 and ano <= 2023:\n",
        "  print(f\"Sua idade é {2023 - ano}\")\n",
        "else:\n",
        "  print(\"O ano digitado não é valido\")"
      ],
      "metadata": {
        "id": "uy9649IjQlzF"
      },
      "execution_count": null,
      "outputs": []
    },
    {
      "cell_type": "markdown",
      "source": [
        "Entrar com a idade de uma pessoa e exibir a mensagem; Maior de idade, menor de\n",
        "idade ou acima de 65 anos."
      ],
      "metadata": {
        "id": "4ZF6hwvLR7tU"
      }
    },
    {
      "cell_type": "code",
      "source": [
        "idade = float(input(\"Digite sua idade: \"))\n",
        "\n",
        "if idade >= 18 and idade <= 65:\n",
        "  print(\"Maior de idade\")\n",
        "elif idade < 18:\n",
        "  print(\"Menor de idade\")\n",
        "else:\n",
        "  print(\"Acima de 65 anos\")"
      ],
      "metadata": {
        "colab": {
          "base_uri": "https://localhost:8080/"
        },
        "id": "d5yHpZ0yR-G0",
        "outputId": "0a36d7c5-4d4c-45ef-d1b8-40883d385747"
      },
      "execution_count": null,
      "outputs": [
        {
          "output_type": "stream",
          "name": "stdout",
          "text": [
            "Digite sua idade: 18\n",
            "Maior de idade\n"
          ]
        }
      ]
    },
    {
      "cell_type": "markdown",
      "source": [
        "Ler as notas da 1a\n",
        ". e 2a\n",
        ". avaliações de um aluno. Calcular a média aritmética simples e\n",
        "escrever uma mensagem que diga se o aluno foi ou não aprovado (considerar que se a\n",
        "nota for igual ou maior que 6 o aluno é aprovado). Escrever também a média\n",
        "calculada."
      ],
      "metadata": {
        "id": "LD-rIyZRTcB0"
      }
    },
    {
      "cell_type": "code",
      "source": [
        "n1 = float(input(\"Digite sua primeira nota: \"))\n",
        "n2 = float(input(\"Digite sua segunda nota: \"))\n",
        "\n",
        "if (n1 + n2) / 2 >= 6:\n",
        "  print(f\"Você foi aprovado!\\nSua media é {(n1 + n2) /2}\")\n",
        "else:\n",
        "  print(f\"Vocẽ foi reprovado!\\nSua media é {(n1 + n2)/2}\")\n"
      ],
      "metadata": {
        "colab": {
          "base_uri": "https://localhost:8080/"
        },
        "id": "MMBF3uUVTdlH",
        "outputId": "8bed6486-2227-4460-8808-b0483e294d79"
      },
      "execution_count": null,
      "outputs": [
        {
          "output_type": "stream",
          "name": "stdout",
          "text": [
            "Digite sua primeira nota: 6\n",
            "Digite sua segunda nota: 6\n",
            "Você foi aprovado!\n",
            "Sua media é 6.0\n"
          ]
        }
      ]
    },
    {
      "cell_type": "markdown",
      "source": [
        "Escrever um algoritmo para ler duas notas de um aluno e escrever na tela a palavra\n",
        "“Aprovado” se a média das duas notas for maior ou igual a 7,0. Caso a média seja\n",
        "inferior a 7,0, o programa deve ler a nota do exame e calcular a média final. Se esta\n",
        "média for maior ou igual a 5,0, o programa deve escrever “Aprovado”, caso contrário\n",
        "deve escrever “Reprovado”."
      ],
      "metadata": {
        "id": "j9TWs8qLU8rT"
      }
    },
    {
      "cell_type": "code",
      "source": [
        "n1 = float(input(\"Digite sua primeira nota: \"))\n",
        "n2 = float(input(\"Digite sua segunda nota: \"))\n",
        "\n",
        "media = (n1 + n2) /2\n",
        "\n",
        "if media >= 7:\n",
        "  print(\"Você foi aprovado!\")\n",
        "else:\n",
        "  ex = float(input(\"Digite sua nota no exame: \"))\n",
        "  mediaEx = (media + ex) / 2\n",
        "  if mediaEx >= 5:\n",
        "    print(\"Aprovado em Exame!\")\n",
        "  else:\n",
        "    print(\"Reprovado!\")"
      ],
      "metadata": {
        "colab": {
          "base_uri": "https://localhost:8080/"
        },
        "id": "pu_dORmTVCKf",
        "outputId": "0cdbabd8-8921-43fe-a4c2-b4fbd28be36e"
      },
      "execution_count": null,
      "outputs": [
        {
          "output_type": "stream",
          "name": "stdout",
          "text": [
            "Digite sua primeira nota: 5\n",
            "Digite sua segunda nota: 5\n",
            "Digite sua nota no exame: 5\n",
            "Aprovado em Exame!\n"
          ]
        }
      ]
    },
    {
      "cell_type": "markdown",
      "source": [
        "Escrever um algoritmo para ler a quantidade de horas aula dadas por dois professores\n",
        "e o valor por hora recebido por cada um. Mostrar na tela qual dos professores tem\n",
        "salário total maior."
      ],
      "metadata": {
        "id": "mPOO7yOBXoRz"
      }
    },
    {
      "cell_type": "code",
      "source": [
        "prof1 = float(input(\"Digite quantidade de horas dadas de aulas pelo primeiro professor: \"))\n",
        "prof2 = float(input(\"Digite quantidade de horas dadas de aulas pelo segundo professor: \"))\n",
        "valor1 = float(input(\"Digite quantos é o ganho por hora pelo primeiro professor: \"))\n",
        "valor2 = float(input(\"Digite quantos é o ganho por hora pelo segundo professor: \"))\n",
        "\n",
        "salario1 = prof1 * valor1\n",
        "salario2 = prof2 * valor2\n",
        "\n",
        "if salario1 > salario2:\n",
        "  print(\"O primeiro professor tem um salario maior!\")\n",
        "else:\n",
        "  print(\"O segundo professor tem um salario maior!\")"
      ],
      "metadata": {
        "colab": {
          "base_uri": "https://localhost:8080/"
        },
        "id": "6siB-3qRXcI7",
        "outputId": "392f9705-5bb7-4c2b-ae95-ea3158218603"
      },
      "execution_count": null,
      "outputs": [
        {
          "output_type": "stream",
          "name": "stdout",
          "text": [
            "Digite quantidade de horas dadas de aulas pelo primeiro professor: 160\n",
            "Digite quantidade de horas dadas de aulas pelo segundo professor: 100\n",
            "Digite quantos é o ganho por hora pelo primeiro professor: 15\n",
            "Digite quantos é o ganho por hora pelo segundo professor: 15\n",
            "O primeiro professor tem um salario maior!\n"
          ]
        }
      ]
    },
    {
      "cell_type": "markdown",
      "source": [
        "Faça um algoritmo que leia um número inteiro e mostre uma mensagem indicando se\n",
        "este número é par ou ímpar."
      ],
      "metadata": {
        "id": "6H0ShL-VaJWi"
      }
    },
    {
      "cell_type": "code",
      "source": [
        "n = int(input(\"Digite um numero inteiro: \"))\n",
        "\n",
        "if n % 2 == 0:\n",
        "  print(\"este numero é par\")\n",
        "else:\n",
        "  print(\"este numero é impar\")"
      ],
      "metadata": {
        "colab": {
          "base_uri": "https://localhost:8080/"
        },
        "id": "ba24vvkBaLgF",
        "outputId": "cabd1b13-1098-4ef4-f356-ecab96fda46d"
      },
      "execution_count": null,
      "outputs": [
        {
          "output_type": "stream",
          "name": "stdout",
          "text": [
            "Digite um numero inteiro: 527\n",
            "este numero é impar\n"
          ]
        }
      ]
    },
    {
      "cell_type": "markdown",
      "source": [
        "Ler o nome de 2 times e o número de gols marcados na partida. Escrever o nome do\n",
        "vencedor. Caso não haja vencedor deverá ser impressa a palavra EMPATE."
      ],
      "metadata": {
        "id": "zLlbFub0ao3Y"
      }
    },
    {
      "cell_type": "code",
      "source": [
        "time1 = input(\"Informe o nome do primeiro time: \")\n",
        "time2 = input(\"Informe o nome do segundo time: \")\n",
        "gol1 = int(input(f\"Digite a quantidade de gols do {time1}: \"))\n",
        "gol2 = int(input(f\"Digite a quantidade de gols do {time2}: \"))\n",
        "\n",
        "if gol1 > gol2:\n",
        "  print(f\"O {time1} é o vencedor!\")\n",
        "elif gol2 > gol1:\n",
        "  print(f\"O {time2} é o vencedor!\")\n",
        "else:\n",
        "  print(\"Empate!\")\n"
      ],
      "metadata": {
        "colab": {
          "base_uri": "https://localhost:8080/"
        },
        "id": "hr72_YpEathA",
        "outputId": "2ae7dbfe-a4d9-4bd4-e7e2-7338030882a3"
      },
      "execution_count": null,
      "outputs": [
        {
          "output_type": "stream",
          "name": "stdout",
          "text": [
            "Informe o nome do primeiro time: flamengo\n",
            "Informe o nome do segundo time: jec\n",
            "Digite a quantidade de gols do flamengo: 0\n",
            "Digite a quantidade de gols do jec: 522\n",
            "O jec é o vencedor!\n"
          ]
        }
      ]
    },
    {
      "cell_type": "markdown",
      "source": [
        "Entrar com a sigla do estado de uma pessoa e imprimir uma das mensagens: “Carioca,\n",
        "Paulista, Mineiro ou Outros”"
      ],
      "metadata": {
        "id": "srQO8oKFb_w1"
      }
    },
    {
      "cell_type": "code",
      "source": [
        "sigla = input(\"Digite o estado no qual nasceu: \")\n",
        "\n",
        "match sigla:\n",
        "  case \"RJ\":\n",
        "    print(\"Carioca\")\n",
        "  case \"SP\":\n",
        "    print(\"Paulista\")\n",
        "  case \"MG\":\n",
        "    print(\"Mineiro\")\n",
        "default: print(\"Outros\")\n"
      ],
      "metadata": {
        "colab": {
          "base_uri": "https://localhost:8080/"
        },
        "id": "MRqCRtZjcB9l",
        "outputId": "7cf5a0ee-76f6-4bb9-c47c-201bd0e46b97"
      },
      "execution_count": 3,
      "outputs": [
        {
          "output_type": "stream",
          "name": "stdout",
          "text": [
            "Digite o estado no qual nasceu: SC\n",
            "Outros\n"
          ]
        }
      ]
    },
    {
      "cell_type": "markdown",
      "source": [
        "Um comerciante comprou um produto e quer vendê-lo com um lucro de 45% se o valor\n",
        "da compra for menor que R$ 20,00; Caso contrário, o lucro será de 30%. Entrar com o\n",
        "valor do produto e imprimir o valor da venda."
      ],
      "metadata": {
        "id": "6pnJ1mHGpBOk"
      }
    },
    {
      "cell_type": "code",
      "source": [
        "produto = float(input(\"Digite o valor do produto: \"))\n",
        "\n",
        "if produto < 20:\n",
        "  print(f\"O valor da compra é:R${(produto * 0.45) + produto}\")\n",
        "else:\n",
        "  print(f\"O valor da compra é:R${(produto * 0.30) + produto}\")\n"
      ],
      "metadata": {
        "colab": {
          "base_uri": "https://localhost:8080/"
        },
        "id": "qSVJIhKgpDrE",
        "outputId": "9ca0a717-4a21-45b7-e7de-c9eb3ada66dd"
      },
      "execution_count": 6,
      "outputs": [
        {
          "output_type": "stream",
          "name": "stdout",
          "text": [
            "Digite o valor do produto: 19\n",
            "O valor da compra é:R$27.55\n"
          ]
        }
      ]
    },
    {
      "cell_type": "markdown",
      "source": [
        "Entrar com um número de 1 a 12 e exibir o mês correspondente."
      ],
      "metadata": {
        "id": "xtKGnwcRqLNk"
      }
    },
    {
      "cell_type": "code",
      "source": [
        "mes = int(input(\"Digite o um numero de 1 a 12: \"))\n",
        "\n",
        "match mes:\n",
        "  case 1:\n",
        "    print(\"Janeiro\")\n",
        "  case 2:\n",
        "    print(\"fevereiro\")\n",
        "  case 3:\n",
        "    print(\"março\")\n",
        "  case 4:\n",
        "    print(\"abril\")\n",
        "  case 5:\n",
        "    print(\"maio\")\n",
        "  case 6:\n",
        "    print(\"Junho\")\n",
        "  case 7:\n",
        "    print(\"Julho\")\n",
        "  case 8:\n",
        "    print(\"Agosto\")\n",
        "  case 9:\n",
        "    print(\"Setembro\")\n",
        "  case 10:\n",
        "    print(\"Outubro\")\n",
        "  case 11:\n",
        "    print(\"Novembro\")\n",
        "  case 12:\n",
        "    print(\"Dezembro\")\n",
        "  case _:\n",
        "    print(\"Numero invalido\")\n"
      ],
      "metadata": {
        "colab": {
          "base_uri": "https://localhost:8080/"
        },
        "id": "NO_cuUvXqNNs",
        "outputId": "ad5979b6-03a6-4448-92c7-74b5162c82b9"
      },
      "execution_count": 9,
      "outputs": [
        {
          "output_type": "stream",
          "name": "stdout",
          "text": [
            "Digite o um numero de 1 a 12: 13\n",
            "Numero invalido\n"
          ]
        }
      ]
    },
    {
      "cell_type": "markdown",
      "source": [
        "Faça um algoritmo que verifique se uma letra digitada é vogal ou consoante."
      ],
      "metadata": {
        "id": "JUeLJ_QFrnis"
      }
    },
    {
      "cell_type": "code",
      "source": [
        "letra = input(\"Digite uma letra: \")\n",
        "\n",
        "if letra in \"AEIOUaeiou\":\n",
        "  print(\"A letra é vogal\")\n",
        "elif letra in \"0123456789\":\n",
        "  print(\"Invalido\")\n",
        "else:\n",
        "  print(\"A letra é consoante\")\n"
      ],
      "metadata": {
        "colab": {
          "base_uri": "https://localhost:8080/"
        },
        "id": "4aVrscvxrogE",
        "outputId": "4ae15814-7978-43fd-9366-507f8b0337fc"
      },
      "execution_count": 13,
      "outputs": [
        {
          "output_type": "stream",
          "name": "stdout",
          "text": [
            "Digite uma letra: 5\n",
            "Invalido\n"
          ]
        }
      ]
    },
    {
      "cell_type": "markdown",
      "source": [
        "Ler 2 valores (considere que não serão lidos valores iguais) e escrever o maior deles."
      ],
      "metadata": {
        "id": "1gKETaxqsw2k"
      }
    },
    {
      "cell_type": "code",
      "source": [
        "v1 = float(input(\"Digite um valor: \"))\n",
        "v2 = float(input(\"Digite um valor: \"))\n",
        "\n",
        "if v1 == v2:\n",
        "  print(\"Os valores são iguais\")\n",
        "elif v1 > v2:\n",
        "  print(f\"O {v1} é maior que {v2}!\")\n",
        "else:\n",
        "  print(f\"O {v2} é maior que {v1}!\")"
      ],
      "metadata": {
        "colab": {
          "base_uri": "https://localhost:8080/"
        },
        "id": "oPTsm675s0F0",
        "outputId": "0345dc6f-8867-44a9-8c43-91a7fc87e34b"
      },
      "execution_count": 16,
      "outputs": [
        {
          "output_type": "stream",
          "name": "stdout",
          "text": [
            "Digite um valor: 5\n",
            "Digite um valor: 10\n",
            "O 10.0 é maior que o valor 5.0\n"
          ]
        }
      ]
    },
    {
      "cell_type": "markdown",
      "source": [
        "Ler 2 valores (considere que não serão lidos valores iguais) e escrevê-los em ordem\n",
        "crescente."
      ],
      "metadata": {
        "id": "TZ_HI1cStpOu"
      }
    },
    {
      "cell_type": "code",
      "source": [
        "v1 = float(input(\"Digite um valor: \"))\n",
        "v2 = float(input(\"Digite um valor: \"))\n",
        "\n",
        "if v1 == v2:\n",
        "  print(\"Os valores são iguais\")\n",
        "elif v1 > v2:\n",
        "  print(f\"{v2},{v1}\")\n",
        "else:\n",
        "  print(f\"{v1},{v2}\")"
      ],
      "metadata": {
        "colab": {
          "base_uri": "https://localhost:8080/"
        },
        "id": "dpvJb9YfttNe",
        "outputId": "a5f2310a-7262-4c99-a475-51b46cbe54d9"
      },
      "execution_count": 19,
      "outputs": [
        {
          "output_type": "stream",
          "name": "stdout",
          "text": [
            "Digite um valor: 1\n",
            "Digite um valor: 1\n",
            "Os valores são iguais\n"
          ]
        }
      ]
    },
    {
      "cell_type": "markdown",
      "source": [
        "Ler 3 valores (considere que não serão informados valores iguais) e escrever o maior\n",
        "deles."
      ],
      "metadata": {
        "id": "ihVdRcsluvQ3"
      }
    },
    {
      "cell_type": "code",
      "source": [
        "v1 = float(input(\"Digite um valor: \"))\n",
        "v2 = float(input(\"Digite um valor: \"))\n",
        "v3 = float(input(\"Digite um valor: \"))\n",
        "\n",
        "if v1 == v2 == v3:\n",
        "  print(\"Os valores são iguais\")\n",
        "elif v1 > v2 and v1 > v3:\n",
        "  print(f\"O {v1} é maior que {v2} e {v3}!\")\n",
        "elif v2 > v1 and v2 > v3:\n",
        "  print(f\"O {v2} é maior que {v1} e {v3}!\")\n",
        "else:\n",
        "  print(f\"O {v3} é maior que {v1} e {v2}\")"
      ],
      "metadata": {
        "colab": {
          "base_uri": "https://localhost:8080/"
        },
        "id": "LByz6Y5-uuov",
        "outputId": "80e70b2f-45ad-4771-e80b-ec8d64927f40"
      },
      "execution_count": 24,
      "outputs": [
        {
          "output_type": "stream",
          "name": "stdout",
          "text": [
            "Digite um valor: 1\n",
            "Digite um valor: 1\n",
            "Digite um valor: 1\n",
            "Os valores são iguais\n"
          ]
        }
      ]
    },
    {
      "cell_type": "markdown",
      "source": [
        "Ler 3 valores (considere que não serão informados valores iguais) e escrever a soma\n",
        "dos 2 maiores."
      ],
      "metadata": {
        "id": "0e6UiebkwbcC"
      }
    },
    {
      "cell_type": "code",
      "source": [
        "v1 = float(input(\"Digite um valor: \"))\n",
        "v2 = float(input(\"Digite um valor: \"))\n",
        "v3 = float(input(\"Digite um valor: \"))\n",
        "\n",
        "if v1 < v2 and v1 < v3:\n",
        "  print(f\"A soma é {v2 + v3}\")\n",
        "elif v2 < v1 and v2 < v3:\n",
        "  print(f\"A soma é {v1 + v3}\")\n",
        "else:\n",
        "  print(f\"A soma é {v1 + v2}\")"
      ],
      "metadata": {
        "colab": {
          "base_uri": "https://localhost:8080/"
        },
        "id": "b6JHVzlbwd75",
        "outputId": "2e2a19ab-e6b7-4037-8434-72b940f2bd4c"
      },
      "execution_count": 33,
      "outputs": [
        {
          "output_type": "stream",
          "name": "stdout",
          "text": [
            "Digite um valor: 1\n",
            "Digite um valor: 1\n",
            "Digite um valor: 1\n",
            "A soma é 2.0\n"
          ]
        }
      ]
    },
    {
      "cell_type": "markdown",
      "source": [
        "Ler 3 valores (considere que não serão informados valores iguais) e escrevê-los em\n",
        "ordem crescente."
      ],
      "metadata": {
        "id": "dLpB9UuF1CH3"
      }
    },
    {
      "cell_type": "code",
      "source": [
        "v1 = float(input(\"Digite um valor: \"))\n",
        "v2 = float(input(\"Digite um valor: \"))\n",
        "v3 = float(input(\"Digite um valor: \"))\n",
        "\n",
        "if v1 < v2 and v2 < v3:\n",
        "  print(f\" A ordem é {v1},{v2},{v3}\")\n",
        "elif v2 < v3 and v3 < v1:\n",
        "  print(f\"A ordem é {v2},{v3},{v1}\")\n",
        "else:\n",
        "  print(f\"A ordem é {v3},{v2},{v1}\")"
      ],
      "metadata": {
        "colab": {
          "base_uri": "https://localhost:8080/"
        },
        "id": "0qmA5jkx1Ceu",
        "outputId": "8fe90ae8-edf0-4c7c-860b-60300946f9ea"
      },
      "execution_count": 40,
      "outputs": [
        {
          "output_type": "stream",
          "name": "stdout",
          "text": [
            "Digite um valor: 2\n",
            "Digite um valor: 3\n",
            "Digite um valor: 1\n",
            "A ordem é 1.0,3.0,2.0\n"
          ]
        }
      ]
    },
    {
      "cell_type": "markdown",
      "source": [
        "Faça um algoritmo que leia as duas notas parciais obtidas por um aluno numa\n",
        "disciplina ao longo de um semestre, e calcule a sua média. A atribuição de conceitos\n",
        "obedece à tabela abaixo:\n",
        "\n",
        "Aproveitamento Conceito\n",
        "\n",
        "Entre 9.0 e 10.0 A\n",
        "\n",
        "Entre 7.5 e 9.0 B\n",
        "\n",
        "Entre 6.0 e 7.5 C\n",
        "\n",
        "Entre 4.0 e 6.0 D\n",
        "\n",
        "Entre 4.0 e zero E"
      ],
      "metadata": {
        "id": "iQIMwzDh4uPx"
      }
    },
    {
      "cell_type": "code",
      "source": [],
      "metadata": {
        "id": "8_ZBpzrr4ymX"
      },
      "execution_count": null,
      "outputs": []
    }
  ]
}