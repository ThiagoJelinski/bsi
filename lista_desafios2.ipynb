{
  "nbformat": 4,
  "nbformat_minor": 0,
  "metadata": {
    "colab": {
      "provenance": [],
      "authorship_tag": "ABX9TyOJJQXi5H/drqte7KTfJUj7",
      "include_colab_link": true
    },
    "kernelspec": {
      "name": "python3",
      "display_name": "Python 3"
    },
    "language_info": {
      "name": "python"
    }
  },
  "cells": [
    {
      "cell_type": "markdown",
      "metadata": {
        "id": "view-in-github",
        "colab_type": "text"
      },
      "source": [
        "<a href=\"https://colab.research.google.com/github/ThiagoJelinski/bsi/blob/master/lista_desafios2.ipynb\" target=\"_parent\"><img src=\"https://colab.research.google.com/assets/colab-badge.svg\" alt=\"Open In Colab\"/></a>"
      ]
    },
    {
      "cell_type": "markdown",
      "source": [
        "Faça um Programa que mostre a mensagem \"Alo mundo\" na tela."
      ],
      "metadata": {
        "id": "jleImy5fEey9"
      }
    },
    {
      "cell_type": "code",
      "execution_count": 1,
      "metadata": {
        "colab": {
          "base_uri": "https://localhost:8080/"
        },
        "id": "ZgPlAHlYEbE3",
        "outputId": "4bb06c10-50af-4a32-9340-ff5739245d1a"
      },
      "outputs": [
        {
          "output_type": "stream",
          "name": "stdout",
          "text": [
            "Alo mundo\n"
          ]
        }
      ],
      "source": [
        "print(\"Alo mundo\")"
      ]
    },
    {
      "cell_type": "markdown",
      "source": [
        "Faça um Programa que peça as 4 notas bimestrais e mostre a média."
      ],
      "metadata": {
        "id": "iPtMXVlFFdSu"
      }
    },
    {
      "cell_type": "code",
      "source": [
        "n1 = float(input(\"Informe a nota 1: \"))\n",
        "n2 = float(input(\"Informe a nota 2: \"))\n",
        "n3 = float(input(\"Informe a nota 3: \"))\n",
        "n4 = float(input(\"Informe a nota 4: \"))\n",
        "media = (n1 + n2 + n3 + n4) / 4\n",
        "\n",
        "print(f\"A sua media é:{media}\")"
      ],
      "metadata": {
        "colab": {
          "base_uri": "https://localhost:8080/"
        },
        "id": "No2GkmgtFheW",
        "outputId": "0d9c2c07-91e7-4936-eb8c-a7e92691d942"
      },
      "execution_count": 4,
      "outputs": [
        {
          "output_type": "stream",
          "name": "stdout",
          "text": [
            "Informe a nota 1: 6\n",
            "Informe a nota 2: 6\n",
            "Informe a nota 3: 6\n",
            "Informe a nota 4: 6\n",
            "A sua media é:6.0\n"
          ]
        }
      ]
    },
    {
      "cell_type": "markdown",
      "source": [
        "Faça um Programa que pergunte quanto você ganha por hora e o número de horas trabalhadas no mês.\n",
        "Calcule e mostre o total do seu salário no referido mês."
      ],
      "metadata": {
        "id": "m2Zhv6UVGstx"
      }
    },
    {
      "cell_type": "code",
      "source": [
        "valor_hr = float(input(\"Digite o quanto você ganha por hora: \"))\n",
        "hr_mes = float(input(\"Digite quantas horas você trabalha no mês: \"))\n",
        "salario = valor_hr * hr_mes\n",
        "\n",
        "print(f\"O seu salario é:{salario}\")"
      ],
      "metadata": {
        "colab": {
          "base_uri": "https://localhost:8080/"
        },
        "id": "cZ5QroYXGuYq",
        "outputId": "0a0bae4c-2d19-41ef-ce7a-3794e4960e39"
      },
      "execution_count": 7,
      "outputs": [
        {
          "output_type": "stream",
          "name": "stdout",
          "text": [
            "Digite o quanto você ganha por hora: 10\n",
            "Digite quantas horas você trabalha no mês: 100\n",
            "O seu salario é:1000.0\n"
          ]
        }
      ]
    },
    {
      "cell_type": "markdown",
      "source": [
        "Faça um Programa que peça 2 números inteiros e um número real. Calcule e mostre:\n",
        "a. o produto do dobro do primeiro com metade do segundo .\n",
        "b. a soma do triplo do primeiro com o terceiro.\n",
        "c. o terceiro elevado ao cubo."
      ],
      "metadata": {
        "id": "eqOJOC-XHqV1"
      }
    },
    {
      "cell_type": "code",
      "source": [
        "#a\n",
        "n1 = int(input(\"Digite um numero inteiro: \"))\n",
        "n2 = int(input(\"Digite um numero inteiro: \"))\n",
        "n3 = float(input(\"Digite um numero real: \"))\n",
        "\n",
        "produto = (n1 * 2) + (n2 / 2)\n",
        "\n",
        "print(f\"Valor:{produto}\")\n",
        "\n",
        "#b\n",
        "valor3 = (n1 * 3) + n3\n",
        "print(f\"Valor:{valor3}\")\n",
        "\n",
        "#c\n",
        "valor4 = n3 ** 3\n",
        "print(f\"Valor:{valor4}\")"
      ],
      "metadata": {
        "colab": {
          "base_uri": "https://localhost:8080/"
        },
        "id": "rvyj3bbFHtXt",
        "outputId": "2a9697a4-677d-4461-8dba-2ac15b10770e"
      },
      "execution_count": 10,
      "outputs": [
        {
          "output_type": "stream",
          "name": "stdout",
          "text": [
            "Digite um numero inteiro: 5\n",
            "Digite um numero inteiro: 2\n",
            "Digite um numero real: 2\n",
            "Valor:11.0\n",
            "Valor:17.0\n",
            "Valor:8.0\n"
          ]
        }
      ]
    },
    {
      "cell_type": "markdown",
      "source": [
        "Tendo como dados de entrada a altura de uma pessoa, construa um algoritmo que calcule seu peso ideal,\n",
        "usando a seguinte fórmula: (72.7*altura) - 58"
      ],
      "metadata": {
        "id": "-iSedhhvJDnE"
      }
    },
    {
      "cell_type": "code",
      "source": [
        "altura = float(input(\"Digite sua altura em metros: \"))\n",
        "peso = (72.7 * altura) - 58\n",
        "\n",
        "print(f\"Seu peso ideial é:{peso}\")"
      ],
      "metadata": {
        "colab": {
          "base_uri": "https://localhost:8080/"
        },
        "id": "D-BiEGNLJMPL",
        "outputId": "6a806fc2-f401-4371-b5af-20e6a3309f58"
      },
      "execution_count": 12,
      "outputs": [
        {
          "output_type": "stream",
          "name": "stdout",
          "text": [
            "Digite sua altura em metros: 1.85\n",
            "Seu peso ideial é:76.495\n"
          ]
        }
      ]
    },
    {
      "cell_type": "markdown",
      "source": [
        "Faça um Programa que pergunte quanto você ganha por hora e o número de horas trabalhadas no mês.\n",
        "Calcule e mostre o total do seu salário no referido mês, sabendo-se que são descontados 11% para o Imposto\n",
        "de Renda, 8% para o INSS e 5% para o sindicato, faça um programa que nos dê:\n",
        "a. salário bruto.\n",
        "b. quanto pagou ao INSS.\n",
        "c. quanto pagou ao sindicato.\n",
        "d. o salário líquido.\n",
        "calcule os descontos e o salário líquido, conforme a tabela abaixo:\n",
        "+ Salário Bruto\n",
        "- IR (11%)\n",
        "- INSS (8%)\n",
        "- Sindicato ( 5%)\n",
        "= Salário Liquido"
      ],
      "metadata": {
        "id": "B36jxklrKGNA"
      }
    },
    {
      "cell_type": "code",
      "source": [
        "valor_hr = float(input(\"Digite o quanto você ganha por hora: \"))\n",
        "hr_mes = float(input(\"Digite quantas horas você trabalha no mês: \"))\n",
        "salario_b = valor_hr * hr_mes\n",
        "ir = salario_b  * 0.11\n",
        "inss = salario_b * 0.08\n",
        "sindicato = salario_b * 0.05\n",
        "salario_l = salario_b - (ir + inss + sindicato)\n",
        "print(f\"Seu salario bruto:{salario_b}\\nValor do IR:{ir}\\nValor do INSS:{inss}\\nValor do sindicato:{sindicato}\\nO valor descontado é:{ir + inss + sindicato}\\nO seu salario liquido:{salario_l}\")"
      ],
      "metadata": {
        "colab": {
          "base_uri": "https://localhost:8080/"
        },
        "id": "aW6ZAnA1KIgv",
        "outputId": "6e3dba5d-e245-4c8d-abfa-e3d06eccf8bf"
      },
      "execution_count": 14,
      "outputs": [
        {
          "output_type": "stream",
          "name": "stdout",
          "text": [
            "Digite o quanto você ganha por hora: 10\n",
            "Digite quantas horas você trabalha no mês: 100\n",
            "Seu salario bruto:1000.0\n",
            "Valor do IR:110.0\n",
            "Valor do INSS:80.0\n",
            "Valor do sindicato:50.0\n",
            "O valor descontado é:240.0\n",
            "O seu salario liquido:760.0\n"
          ]
        }
      ]
    },
    {
      "cell_type": "markdown",
      "source": [
        "Faça um programa para uma loja de tintas. O programa deverá pedir o tamanho em metros quadrados da área\n",
        "a ser pintada. Considere que a cobertura da tinta é de 1 litro para cada 3 metros quadrados e que a tinta é\n",
        "vendida em latas de 18 litros, que custam R$ 80,00. Informe ao usuário a quantidades de latas de tinta a serem\n",
        "compradas e o preço total."
      ],
      "metadata": {
        "id": "aB3Mjnk5NKFx"
      }
    },
    {
      "cell_type": "code",
      "source": [
        "mq = float(input(\"Digite em metros quadrados: \"))\n",
        "litro = mq / 3\n",
        "lata = round(18 / litro,2)\n",
        "custo = round(80 * lata)\n",
        "\n",
        "print(f\"Sera nescessario {lata} latas de tinta\\nO custo sera de {custo}\")"
      ],
      "metadata": {
        "colab": {
          "base_uri": "https://localhost:8080/"
        },
        "id": "6blw_Uu7NUEX",
        "outputId": "b577e3f0-0d86-4f06-9cde-1ea84a41352a"
      },
      "execution_count": 16,
      "outputs": [
        {
          "output_type": "stream",
          "name": "stdout",
          "text": [
            "Digite em metros quadrados: 10\n",
            "Sera nescessario 5.4 latas de tinta\n",
            "O custo sera de 432.0\n"
          ]
        }
      ]
    },
    {
      "cell_type": "markdown",
      "source": [
        "Faça um Programa para uma loja de tintas. O programa deverá pedir o tamanho em metros quadrados da área\n",
        "a ser pintada. Considere que a cobertura da tinta é de 1 litro para cada 6 metros quadrados e que a tinta é\n",
        "vendida em latas de 18 litros, que custam R$ 80,00 ou em galões de 3,6 litros, que custam R$ 25,00.\n",
        "Informe ao usuário as quantidades de tinta a serem compradas e os respectivos preços em 3 situações:\n",
        "\n",
        "comprar apenas latas de 18 litros;\n",
        "comprar apenas galões de 3,6 litros;\n",
        "misturar latas e galões, de forma que o preço seja o menor. Acrescente 10% de folga e sempre\n",
        "arredonde os valores para cima, isto é, considere latas cheias."
      ],
      "metadata": {
        "id": "eBr2aT7gQLMO"
      }
    },
    {
      "cell_type": "code",
      "source": [
        "mq = float(input(\"Digite em metros quadrados: \"))\n",
        "litro = mq / 6\n",
        "galao = round(3.6 / litro,2)\n",
        "lata = round(18 / litro,2)\n",
        "custol = round(80 * lata,2)\n",
        "custog = round(25 * galao,2)\n",
        "\n",
        "print(f\"Você precisara de {lata} latas de tinta e o preço total sera de R${custol}\\nVoce precisara de {galao} e o preço total sera de R${custog}\")"
      ],
      "metadata": {
        "colab": {
          "base_uri": "https://localhost:8080/"
        },
        "id": "QdIrPQHrQSP0",
        "outputId": "87aeb1ea-cb81-4d1f-e011-346af3d4ac2d"
      },
      "execution_count": 18,
      "outputs": [
        {
          "output_type": "stream",
          "name": "stdout",
          "text": [
            "Digite em metros quadrados: 10\n",
            "Você precisara de 10.8 latas de tinta e o preço total sera de R$864.0\n",
            "Voce precisara de 2.16 e o preço total sera de R$54.0\n"
          ]
        }
      ]
    },
    {
      "cell_type": "markdown",
      "source": [
        "Faça um programa que peça o tamanho de um arquivo para download (em MB) e a velocidade de um link de\n",
        "Internet (em Mbps), calcule e informe o tempo aproximado de download do arquivo usando este link (em\n",
        "minutos)."
      ],
      "metadata": {
        "id": "KRDTEkLyShz0"
      }
    },
    {
      "cell_type": "code",
      "source": [
        "MB = float(input(\"Digite o valor em MB: \"))\n",
        "mb = float(input(\"Digite o valor em Mb: \"))\n",
        "\n",
        "velocidade =round(MB / mb,2)\n",
        "\n",
        "print(f\"o tempo aproximoado de donwload é de {velocidade} minutos\")"
      ],
      "metadata": {
        "colab": {
          "base_uri": "https://localhost:8080/"
        },
        "id": "OsXOZnKhSktP",
        "outputId": "f97543c1-a722-46de-e5a7-bf5ba142135c"
      },
      "execution_count": 20,
      "outputs": [
        {
          "output_type": "stream",
          "name": "stdout",
          "text": [
            "Digite o valor em MB: 1000\n",
            "Digite o valor em Mb: 300\n",
            "o tempo aproximoado de donwload é de 3.33 minutos\n"
          ]
        }
      ]
    }
  ]
}