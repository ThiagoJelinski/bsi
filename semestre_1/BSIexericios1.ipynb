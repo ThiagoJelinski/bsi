{
  "nbformat": 4,
  "nbformat_minor": 0,
  "metadata": {
    "colab": {
      "provenance": [],
      "authorship_tag": "ABX9TyMklN0wK1M1eDQZazLC7OM6",
      "include_colab_link": true
    },
    "kernelspec": {
      "name": "python3",
      "display_name": "Python 3"
    },
    "language_info": {
      "name": "python"
    }
  },
  "cells": [
    {
      "cell_type": "markdown",
      "metadata": {
        "id": "view-in-github",
        "colab_type": "text"
      },
      "source": [
        "<a href=\"https://colab.research.google.com/github/ThiagoJelinski/bsi/blob/master/BSIexericios1.ipynb\" target=\"_parent\"><img src=\"https://colab.research.google.com/assets/colab-badge.svg\" alt=\"Open In Colab\"/></a>"
      ]
    },
    {
      "cell_type": "code",
      "execution_count": 1,
      "metadata": {
        "colab": {
          "base_uri": "https://localhost:8080/"
        },
        "id": "E-Q71ziQ_CJX",
        "outputId": "767159b9-1bd0-4ab0-cf80-d6d66ad69ba3"
      },
      "outputs": [
        {
          "output_type": "stream",
          "name": "stdout",
          "text": [
            "insira um valor:5\n",
            "insira um valor:5\n",
            "A soma é: 10\n"
          ]
        }
      ],
      "source": [
        "n1 = int(input(\"insira um valor:\"))\n",
        "n2 = int(input(\"insira um valor:\"))\n",
        "soma = n1 + n2\n",
        "print(f\"A soma é: {soma}\")"
      ]
    },
    {
      "cell_type": "markdown",
      "source": [
        "Escreva um programa que leia um valor em metros e o exiba convertido em milímetros."
      ],
      "metadata": {
        "id": "os7CZFqI_ohw"
      }
    },
    {
      "cell_type": "code",
      "source": [
        "mts = float(input(\"insira um valor em metros: \"))\n",
        "mlts = mts * 1000\n",
        "print(f\"Em milimetros é: {mlts}\")"
      ],
      "metadata": {
        "colab": {
          "base_uri": "https://localhost:8080/"
        },
        "id": "XWHqK6L8_rPg",
        "outputId": "9be6d3cf-5bc5-488a-9e6d-9e579b8505d5"
      },
      "execution_count": 3,
      "outputs": [
        {
          "output_type": "stream",
          "name": "stdout",
          "text": [
            "insira um valor em metros: 4\n",
            "Em milimetros é: 4000.0\n"
          ]
        }
      ]
    },
    {
      "cell_type": "markdown",
      "source": [
        "Escreva um programa que leia a quantidade de dias, horas, minutos e segundos do usuário. Calcule o\n",
        "total em segundos."
      ],
      "metadata": {
        "id": "3ABC2qK4AKbA"
      }
    },
    {
      "cell_type": "code",
      "source": [
        "d = int(input(\"Digite um numero de dias: \"))\n",
        "h = int(input(\"Digite um numero de horas: \"))\n",
        "m = int(input(\"Digite um nuemro de minutos: \"))\n",
        "s = int(input(\"Digite um numero de segundos: \"))\n",
        "\n",
        "total = s + (m * 60) + (h * 3600) + (d * 86400)\n",
        "print(f\"O total de segundos é de: {total}\")"
      ],
      "metadata": {
        "colab": {
          "base_uri": "https://localhost:8080/"
        },
        "id": "E36WuZ9BAOMY",
        "outputId": "ad0a6a38-6ec5-4ed5-9427-b4780fea90c7"
      },
      "execution_count": 4,
      "outputs": [
        {
          "output_type": "stream",
          "name": "stdout",
          "text": [
            "Digite um numero de dias: 5\n",
            "Digite um numero de horas: 4\n",
            "Digite um nuemro de minutos: 3\n",
            "Digite um numero de segundos: 1\n",
            "O total de segundos é de: 446581\n"
          ]
        }
      ]
    },
    {
      "cell_type": "markdown",
      "source": [
        "Faça um programa que calcule o aumento de um salário. Ele deve solicitar o valor do salário e a\n",
        "porcentagem do aumento. Exiba o valor do aumento e do novo salário."
      ],
      "metadata": {
        "id": "8WrMIs7MBrY9"
      }
    },
    {
      "cell_type": "code",
      "source": [
        "salario = float(input(\"Digite o valor do salario: \"))\n",
        "porcentagem = float(input(\"Digite o valor da porcentagem de aumento: \"))\n",
        "aumento = salario * (porcentagem / 100)\n",
        "salario_novo = salario + aumento\n",
        "\n",
        "print(f\"O aumento do seu salario é de: {aumento}\\nO seu novo salario é de: {salario_novo}\")"
      ],
      "metadata": {
        "colab": {
          "base_uri": "https://localhost:8080/"
        },
        "id": "lTls0rtFBtG0",
        "outputId": "3f367436-39a3-4295-f83c-a6fe54a9b16f"
      },
      "execution_count": 6,
      "outputs": [
        {
          "output_type": "stream",
          "name": "stdout",
          "text": [
            "Digite o valor do salario: 5000\n",
            "Digite o valor da porcentagem de aumento: 50\n",
            "O aumento do seu salario é de: 2500.0\n",
            "O seu novo salario é de: 7500.0\n"
          ]
        }
      ]
    },
    {
      "cell_type": "markdown",
      "source": [
        "Solicite o preço de uma mercadoria e o percentual de desconto. Exiba o valor do desconto e o preço a\n",
        "pagar."
      ],
      "metadata": {
        "id": "FIUhFYfLCvpA"
      }
    },
    {
      "cell_type": "code",
      "source": [
        "preco = float(input(\"Digite o preço do produto: \"))\n",
        "desc = float(input(\"Digite o desconto do produto: \"))\n",
        "desc2 = preco * (desc/100)\n",
        "nv_preco = preco - desc2\n",
        "\n",
        "print(f\"O valor do desconto é: {desc2}\\nO novo preço do produto é de: {nv_preco}\")"
      ],
      "metadata": {
        "colab": {
          "base_uri": "https://localhost:8080/"
        },
        "id": "hJsidWvSCxkz",
        "outputId": "3e1620d3-0b55-451f-d97d-3bf7c236be02"
      },
      "execution_count": 9,
      "outputs": [
        {
          "output_type": "stream",
          "name": "stdout",
          "text": [
            "Digite o preço do produto: 1000\n",
            "Digite o desconto do produto: 10\n",
            "O valor do desconto é: 100.0\n",
            "O novo preço do produto é de: 900.0\n"
          ]
        }
      ]
    },
    {
      "cell_type": "markdown",
      "source": [
        "Calcule o tempo de uma viagem de carro. Pergunte a distância a percorrer e a velocidade média\n",
        "esperada para a viagem."
      ],
      "metadata": {
        "id": "8MmOxDz8ERQT"
      }
    },
    {
      "cell_type": "code",
      "source": [
        "distancia = float(input(\"Digite uma distancia: \"))\n",
        "velo = float(input(\"Digite uma velocidade: \"))\n",
        "tempo = distancia / velo\n",
        "\n",
        "print(f\"O tempo da viagem é de: {tempo} horas\")"
      ],
      "metadata": {
        "colab": {
          "base_uri": "https://localhost:8080/"
        },
        "id": "JbWodDXOEQ-I",
        "outputId": "5f827bbe-354b-4354-b52c-1550d61a91a1"
      },
      "execution_count": 10,
      "outputs": [
        {
          "output_type": "stream",
          "name": "stdout",
          "text": [
            "Digite uma distancia: 100\n",
            "Digite uma velocidade: 100\n",
            "O tempo da viagem é de: 1.0\n"
          ]
        }
      ]
    },
    {
      "cell_type": "markdown",
      "source": [
        "Converta uma temperatura digitada em Celsius para Fahrenheit. F = 9*C/5 + 32 . Faça agora o\n",
        "contrário, de Fahrenheit para Celsius."
      ],
      "metadata": {
        "id": "SoJx96BrE13m"
      }
    },
    {
      "cell_type": "code",
      "source": [
        "c = float(input(\"Digite uma temperatura em celsius:\"))\n",
        "f = float(input(\"Digite uma temperatura em fahrenheit: \"))\n",
        "c_f = (c * 1.8) + 32\n",
        "f_c = (f - 32) / 1.8\n",
        "\n",
        "print(f\"A temperatura de celsius para fahrenheit é de: {c_f}\\nA temperatura de fahrenheit é de: {f_c}\")"
      ],
      "metadata": {
        "colab": {
          "base_uri": "https://localhost:8080/"
        },
        "id": "gDtGNBfRE32i",
        "outputId": "f57b593c-fa34-4e71-df37-9965dffb1292"
      },
      "execution_count": 12,
      "outputs": [
        {
          "output_type": "stream",
          "name": "stdout",
          "text": [
            "Digite uma temperatura em celsius:10\n",
            "Digite uma temperatura em fahrenheit: 100\n",
            "A temperatura de celsius para fahrenheit é de: 50.0\n",
            "A temperatura de fahrenheit é de: 37.77777777777778\n"
          ]
        }
      ]
    },
    {
      "cell_type": "markdown",
      "source": [
        "Escreva um programa que pergunte a quantidade de km percorridos por um carro alugado pelo usuário,\n",
        "assim como a quantidade de dias pelos quais o carro foi alugado. Calcule o preço a pagar, sabendo que o\n",
        "carro custa R$ 60,00 por dia e R$ 0,15 por km rodado."
      ],
      "metadata": {
        "id": "1MPpfnmQGoM4"
      }
    },
    {
      "cell_type": "code",
      "source": [
        "km = float(input(\"Digite a distancia percorrida: \"))\n",
        "dias = float(input(\"Digite a quantidade de dias percorrida: \"))\n",
        "p_km = km * 0.15\n",
        "p_d = dias * 60\n",
        "p_f = p_km + p_d\n",
        "\n",
        "print(f\"O valor é de: {p_f}\\nO preço em KM: {p_km}\\nO preço em dias: {p_d}\")"
      ],
      "metadata": {
        "colab": {
          "base_uri": "https://localhost:8080/"
        },
        "id": "9QmhJE1YGqsS",
        "outputId": "493d3de6-ac5a-4099-a915-b0c7b68fc5d1"
      },
      "execution_count": 14,
      "outputs": [
        {
          "output_type": "stream",
          "name": "stdout",
          "text": [
            "Digite a distancia percorrida: 1\n",
            "Digite a quantidade de dias percorrida: 1\n",
            "O valor é de: 60.15\n",
            "O preço em KM: 0.15\n",
            "O preço em dias: 60.0\n"
          ]
        }
      ]
    },
    {
      "cell_type": "markdown",
      "source": [
        "Escreva um programa para calcular a redução do tempo de vida de um fumante. Pergunte a quantidade\n",
        "de cigarros fumados por dia e quantos anos ele já fumou. Considere que um fumante perde 10 minutos\n",
        "de vida a cada cigarro, calcule quantos dias de vida um fumante perderá. Exiba o total de dias."
      ],
      "metadata": {
        "id": "-o2KROi6IHsw"
      }
    },
    {
      "cell_type": "code",
      "source": [
        "cigarro = float(input(\"Digite quantos cigarros foram fumados por dia: \"))\n",
        "anos = float(input(\"Digite quantos por quantos anos de uso do cigarro: \"))\n",
        "total_cigarros = (anos * 365) * cigarro\n",
        "dias = round(total_cigarros / 144,2)\n",
        "print(f\"Você perdeu {dias} dias\")"
      ],
      "metadata": {
        "colab": {
          "base_uri": "https://localhost:8080/"
        },
        "id": "uR5h7N7HIJxf",
        "outputId": "cc2a9e78-33cf-47de-9b3c-73660ff01786"
      },
      "execution_count": 20,
      "outputs": [
        {
          "output_type": "stream",
          "name": "stdout",
          "text": [
            "Digite quantos cigarros foram fumados por dia: 20\n",
            "Digite quantos por quantos anos de uso do cigarro: 1\n",
            "Você perdeu 50.69 dias\n"
          ]
        }
      ]
    },
    {
      "cell_type": "markdown",
      "source": [
        "Sabendo que str( ) converte valores numéricos para string, calcule quantos dígitos há em 2 elevado a um\n",
        "milhão."
      ],
      "metadata": {
        "id": "0H1lP6WgLAU-"
      }
    },
    {
      "cell_type": "code",
      "source": [
        "x = 2 ** 10\n",
        "print(len(str(x)))"
      ],
      "metadata": {
        "colab": {
          "base_uri": "https://localhost:8080/"
        },
        "id": "5_0b2n7dLCrG",
        "outputId": "1f2fb4b5-ed55-4be2-f8b0-ccd09d42f88c"
      },
      "execution_count": 17,
      "outputs": [
        {
          "output_type": "stream",
          "name": "stdout",
          "text": [
            "4\n"
          ]
        }
      ]
    }
  ]
}