{
  "nbformat": 4,
  "nbformat_minor": 0,
  "metadata": {
    "colab": {
      "provenance": [],
      "authorship_tag": "ABX9TyNSihK2JjNaKIS9/OJLf8bY",
      "include_colab_link": true
    },
    "kernelspec": {
      "name": "python3",
      "display_name": "Python 3"
    },
    "language_info": {
      "name": "python"
    }
  },
  "cells": [
    {
      "cell_type": "markdown",
      "metadata": {
        "id": "view-in-github",
        "colab_type": "text"
      },
      "source": [
        "<a href=\"https://colab.research.google.com/github/ThiagoJelinski/bsi/blob/master/Arrays.ipynb\" target=\"_parent\"><img src=\"https://colab.research.google.com/assets/colab-badge.svg\" alt=\"Open In Colab\"/></a>"
      ]
    },
    {
      "cell_type": "markdown",
      "source": [
        "Inicializar um vetor de inteiros com números de 0 a 99."
      ],
      "metadata": {
        "id": "bfm3xmYIoNqQ"
      }
    },
    {
      "cell_type": "code",
      "execution_count": 7,
      "metadata": {
        "colab": {
          "base_uri": "https://localhost:8080/"
        },
        "id": "f8bOuGM0ZMrT",
        "outputId": "45284400-24f4-4dc1-8618-b57797d1c361"
      },
      "outputs": [
        {
          "output_type": "stream",
          "name": "stdout",
          "text": [
            "[0, 1, 2, 3, 4, 5, 6, 7, 8, 9, 10, 11, 12, 13, 14, 15, 16, 17, 18, 19, 20, 21, 22, 23, 24, 25, 26, 27, 28, 29, 30, 31, 32, 33, 34, 35, 36, 37, 38, 39, 40, 41, 42, 43, 44, 45, 46, 47, 48, 49, 50, 51, 52, 53, 54, 55, 56, 57, 58, 59, 60, 61, 62, 63, 64, 65, 66, 67, 68, 69, 70, 71, 72, 73, 74, 75, 76, 77, 78, 79, 80, 81, 82, 83, 84, 85, 86, 87, 88, 89, 90, 91, 92, 93, 94, 95, 96, 97, 98, 99]\n"
          ]
        }
      ],
      "source": [
        "vetor = [ num for num in range(100)]\n",
        "print(vetor)\n"
      ]
    },
    {
      "cell_type": "markdown",
      "source": [
        "Escreva um algoritmo que leia um conjunto de 10 notas, armazene-as em uma variável\n",
        "composta chamada NOTA e calcule e imprima a sua média."
      ],
      "metadata": {
        "id": "OPW6VAwWoPs3"
      }
    },
    {
      "cell_type": "code",
      "source": [
        "notas = [float(input(\"Digite suas notas: \")) for _ in range(10)]\n",
        "print(f\"Media:{sum(notas) / len(notas)}\")"
      ],
      "metadata": {
        "colab": {
          "base_uri": "https://localhost:8080/"
        },
        "id": "LqDy7HLFoery",
        "outputId": "f28c62ab-2d46-429a-a653-b129ff2d63a7"
      },
      "execution_count": 9,
      "outputs": [
        {
          "output_type": "stream",
          "name": "stdout",
          "text": [
            "Digite suas notas: 3\n",
            "Digite suas notas: 3\n",
            "Digite suas notas: 3\n",
            "Digite suas notas: 3\n",
            "Digite suas notas: 3\n",
            "Digite suas notas: 3\n",
            "Digite suas notas: 3\n",
            "Digite suas notas: 3\n",
            "Digite suas notas: 3\n",
            "Digite suas notas: 3\n",
            "Media:3.0\n"
          ]
        }
      ]
    },
    {
      "cell_type": "markdown",
      "source": [
        "Repita o algoritmo acima, porém imprima quantos valores estão acima da média."
      ],
      "metadata": {
        "id": "7osXwP_4p21W"
      }
    },
    {
      "cell_type": "code",
      "source": [
        "notas = [float(input(\"Digite suas notas: \")) for _ in range(10)]\n",
        "media = [ nota for nota in notas if nota >= 7]\n",
        "print(media)\n"
      ],
      "metadata": {
        "colab": {
          "base_uri": "https://localhost:8080/"
        },
        "id": "HvNPESNCp3lO",
        "outputId": "17b9046c-9915-45c8-b278-31ceaabea0d6"
      },
      "execution_count": 10,
      "outputs": [
        {
          "output_type": "stream",
          "name": "stdout",
          "text": [
            "Digite suas notas: 7\n",
            "Digite suas notas: 6\n",
            "Digite suas notas: 3\n",
            "Digite suas notas: 10\n",
            "Digite suas notas: 9\n",
            "Digite suas notas: 5\n",
            "Digite suas notas: 7\n",
            "Digite suas notas: 3\n",
            "Digite suas notas: 6\n",
            "Digite suas notas: 8\n",
            "[7.0, 10.0, 9.0, 7.0, 8.0]\n"
          ]
        }
      ]
    },
    {
      "cell_type": "code",
      "source": [],
      "metadata": {
        "id": "UuWZkEhtrP5-"
      },
      "execution_count": null,
      "outputs": []
    }
  ]
}