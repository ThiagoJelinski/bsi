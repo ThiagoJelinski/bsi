{
  "nbformat": 4,
  "nbformat_minor": 0,
  "metadata": {
    "colab": {
      "provenance": [],
      "authorship_tag": "ABX9TyPzbc5t9z+xPJ4VeaL7S6qZ",
      "include_colab_link": true
    },
    "kernelspec": {
      "name": "python3",
      "display_name": "Python 3"
    },
    "language_info": {
      "name": "python"
    }
  },
  "cells": [
    {
      "cell_type": "markdown",
      "metadata": {
        "id": "view-in-github",
        "colab_type": "text"
      },
      "source": [
        "<a href=\"https://colab.research.google.com/github/ThiagoJelinski/bsi/blob/master/exercicios_area_perimetro.ipynb\" target=\"_parent\"><img src=\"https://colab.research.google.com/assets/colab-badge.svg\" alt=\"Open In Colab\"/></a>"
      ]
    },
    {
      "cell_type": "markdown",
      "source": [
        "Fazer um algoritmo para ler o valor do lado de um quadrado e mostrar sua área (lado²) e seu perímetro (4xlado)"
      ],
      "metadata": {
        "id": "eZlGfMJrmps5"
      }
    },
    {
      "cell_type": "code",
      "execution_count": 1,
      "metadata": {
        "colab": {
          "base_uri": "https://localhost:8080/"
        },
        "id": "2KzStqbKmW_g",
        "outputId": "999121cd-870d-48b5-a5a1-eaa1069ecb95"
      },
      "outputs": [
        {
          "output_type": "stream",
          "name": "stdout",
          "text": [
            "Digite um valor: 1\n",
            "O valor do perimetro é de:4.0\n",
            "O valor da area é de:1.0\n"
          ]
        }
      ],
      "source": [
        "num1 =  float(input(\"Digite um valor: \"))\n",
        "pmt = num1 * 4\n",
        "area = num1 ** 2\n",
        "\n",
        "print(f\"O valor do perimetro é de:{pmt}\\nO valor da area é de:{area}\")"
      ]
    },
    {
      "cell_type": "markdown",
      "source": [
        "Elaborar um algoritmo para ler o no nome e a quantidade de filhos de uma pessoa e mostrar a mensagem 'fulano tem 5 filho'"
      ],
      "metadata": {
        "id": "FsnkyMYBnkCO"
      }
    },
    {
      "cell_type": "code",
      "source": [
        "nome = input(\"Informe o seu nome: \")\n",
        "filhos = int(input(\"Digite quantos filhos tem: \"))\n",
        "\n",
        "print(f\"{nome} tem {filhos} filhos\")"
      ],
      "metadata": {
        "colab": {
          "base_uri": "https://localhost:8080/"
        },
        "id": "wWOif0iZnwKV",
        "outputId": "0e30526c-106a-4596-a74e-90344b9b0c9d"
      },
      "execution_count": 3,
      "outputs": [
        {
          "output_type": "stream",
          "name": "stdout",
          "text": [
            "Informe o seu nome: gustavo\n",
            "Digite quantos filhos tem: 15\n",
            "gustavo tem 15filhos\n"
          ]
        }
      ]
    },
    {
      "cell_type": "markdown",
      "source": [
        "fazer um algoritmo para ler os valores da base e altura de um retangulo e mostrar seu perimetro (2x(base + altura) e sua area (base x altura)"
      ],
      "metadata": {
        "id": "cvku9gY2okv6"
      }
    },
    {
      "cell_type": "code",
      "source": [
        "b = float(input(\"Digite o valor da base: \"))\n",
        "a = float(input(\"Digite o valor da altura: \"))\n",
        "\n",
        "pmt = 2 * (a + b)\n",
        "area = a * b\n",
        "\n",
        "print(f\"o valor da perimetro:{pmt}\\no valor da area:{area}\")"
      ],
      "metadata": {
        "colab": {
          "base_uri": "https://localhost:8080/"
        },
        "id": "DhBIJy1Qo6ij",
        "outputId": "c44c80af-b275-486e-e1a7-a4944a6cf277"
      },
      "execution_count": 5,
      "outputs": [
        {
          "output_type": "stream",
          "name": "stdout",
          "text": [
            "Digite o valor da base: 1\n",
            "Digite o valor da altura: 1\n",
            "o valor da perimetro:4.0\n",
            "o valor da area:1.0\n"
          ]
        }
      ]
    },
    {
      "cell_type": "markdown",
      "source": [
        "fazer um algoritmo para ler o valor do lado de um cubo e mostrar sua area (6xlado²) e seu volume (lado³)"
      ],
      "metadata": {
        "id": "Qm_qiFDRp1dv"
      }
    },
    {
      "cell_type": "code",
      "source": [
        "lado = float(input(\"Digite um valor: \"))\n",
        "\n",
        "a = 6 * (lado ** 2)\n",
        "v = lado ** 3\n",
        "\n",
        "print(f\"o valor da area é de:{a}\\no valor do volume é de:{v}\")"
      ],
      "metadata": {
        "colab": {
          "base_uri": "https://localhost:8080/"
        },
        "id": "liTbjrerqC7v",
        "outputId": "e1362a89-8016-424d-a3c1-206664c80f22"
      },
      "execution_count": 6,
      "outputs": [
        {
          "output_type": "stream",
          "name": "stdout",
          "text": [
            "Digite um valor: 1\n",
            "o valor da area é de:6.0\n",
            "o valor do volume é de:1.0\n"
          ]
        }
      ]
    },
    {
      "cell_type": "markdown",
      "source": [
        "elaborar um algoritmo para ler dois numeros e mostrar o quociente e o resto da divisao inteira do primeiro pelo segundo numero"
      ],
      "metadata": {
        "id": "BwTyDHuPqahn"
      }
    },
    {
      "cell_type": "code",
      "source": [
        "num1 = int(input(\"Digite um valor: \"))\n",
        "num2 = int(input(\"Digite um valor: \"))\n",
        "\n",
        "qct = num1 / num2\n",
        "resto = num1 % num2\n",
        "\n",
        "print(f\"o valor do quociente é de:{qct}\\no valor do resto é de:{resto}\")"
      ],
      "metadata": {
        "colab": {
          "base_uri": "https://localhost:8080/"
        },
        "id": "859vXNfuq15B",
        "outputId": "2e99a8ab-a598-4dff-8f06-c2a24788de37"
      },
      "execution_count": 9,
      "outputs": [
        {
          "output_type": "stream",
          "name": "stdout",
          "text": [
            "Digite um valor: 5\n",
            "Digite um valor: 3\n",
            "o valor do quociente é de:1.6666666666666667\n",
            "o valor do resto é de:2\n"
          ]
        }
      ]
    },
    {
      "cell_type": "markdown",
      "source": [
        "criar um algoritmo para ler a base e a altura de um triangulo e mostrar sua area (base * altura / 2)"
      ],
      "metadata": {
        "id": "9DCIz4aJscLe"
      }
    },
    {
      "cell_type": "code",
      "source": [
        "b = float(input(\"Digite o valor da base: \"))\n",
        "a = float(input(\"Digite o valor da altura: \"))\n",
        "\n",
        "ar = (b * a) / 2\n",
        "\n",
        "print(f\"O valor da area é:{ar}\")"
      ],
      "metadata": {
        "colab": {
          "base_uri": "https://localhost:8080/"
        },
        "id": "qzWAnLvusFvL",
        "outputId": "d997f1e3-6c68-4a8e-820c-41109875bb1f"
      },
      "execution_count": 10,
      "outputs": [
        {
          "output_type": "stream",
          "name": "stdout",
          "text": [
            "Digite o valor da base: 5\n",
            "Digite o valor da altura: 5\n",
            "O valor da area é:12.5\n"
          ]
        }
      ]
    },
    {
      "cell_type": "markdown",
      "source": [
        "construir um algoritmo para ler o raio de uma circunferencia e mostrar o perimetro (2 x pi x raio) e a area (pi x raio²). Utilize o pi como constante"
      ],
      "metadata": {
        "id": "_IDhDxoytAv7"
      }
    },
    {
      "cell_type": "code",
      "source": [
        "import math\n",
        "\n",
        "raio = float(input(\"Digite o valor do raio: \"))\n",
        "p = round(2 * math.pi * raio, 2)\n",
        "a = round(math.pi * raio ** 2, 2)\n",
        "\n",
        "print(f\"O valor do perimetro é de:{p}\\no valor da area é de:{a}\")\n"
      ],
      "metadata": {
        "colab": {
          "base_uri": "https://localhost:8080/"
        },
        "id": "Uf_lmqQLtYmH",
        "outputId": "66c377b9-b4b3-41c4-c7f7-2e44ddcfeaf1"
      },
      "execution_count": 14,
      "outputs": [
        {
          "output_type": "stream",
          "name": "stdout",
          "text": [
            "Digite o valor do raio: 2\n",
            "O valor do perimetro é de:12.57\n",
            "o valor da area é de:12.57\n"
          ]
        }
      ]
    }
  ]
}