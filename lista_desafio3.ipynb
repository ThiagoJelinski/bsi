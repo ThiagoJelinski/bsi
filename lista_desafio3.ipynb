{
  "nbformat": 4,
  "nbformat_minor": 0,
  "metadata": {
    "colab": {
      "provenance": [],
      "authorship_tag": "ABX9TyNeTCjQRG1u/kUKFEKRcORZ",
      "include_colab_link": true
    },
    "kernelspec": {
      "name": "python3",
      "display_name": "Python 3"
    },
    "language_info": {
      "name": "python"
    }
  },
  "cells": [
    {
      "cell_type": "markdown",
      "metadata": {
        "id": "view-in-github",
        "colab_type": "text"
      },
      "source": [
        "<a href=\"https://colab.research.google.com/github/ThiagoJelinski/bsi/blob/master/lista_desafio3.ipynb\" target=\"_parent\"><img src=\"https://colab.research.google.com/assets/colab-badge.svg\" alt=\"Open In Colab\"/></a>"
      ]
    },
    {
      "cell_type": "markdown",
      "source": [
        "Faça um algoritmo que calcule o volume de uma lata de oleo.Escreva o resultado\n",
        "Formula: Volume = pi * raio² * altura"
      ],
      "metadata": {
        "id": "h06C4ZCkF8Fc"
      }
    },
    {
      "cell_type": "code",
      "execution_count": null,
      "metadata": {
        "colab": {
          "base_uri": "https://localhost:8080/"
        },
        "id": "tlrPmpleEefe",
        "outputId": "e77cc5aa-7ef9-48a0-9b58-dba6c0757f76"
      },
      "outputs": [
        {
          "output_type": "stream",
          "name": "stdout",
          "text": [
            "Digite o raio: 1\n",
            "Digite a altura: 1\n",
            "O volume é:3.141592653589793\n"
          ]
        }
      ],
      "source": [
        "import math\n",
        "\n",
        "raio = float(input(\"Digite o raio: \"))\n",
        "altura = float(input(\"Digite a altura: \"))\n",
        "\n",
        "volume = math.pi * raio ** 2 * altura\n",
        "print(f\"O volume é:{volume}\")"
      ]
    },
    {
      "cell_type": "markdown",
      "source": [
        "Faça um algoritmo que leia as 3 notas de um aluno e calcule e escreva a media final deste aluno.Considerar que a media é ponderada e que o peso das notas é: 2,3 e 5 respectivamente"
      ],
      "metadata": {
        "id": "oqRUmc_cGsRs"
      }
    },
    {
      "cell_type": "code",
      "source": [
        "n1 = float(input(\"Digite uma nota: \"))\n",
        "n2 = float(input(\"Digite uma nota: \"))\n",
        "n3 = float(input(\"Digite uma nota: \"))\n",
        "\n",
        "m = round((n1 + n2 + n3) / 10 ,2)\n",
        "print(f\"A media é:{m}\")"
      ],
      "metadata": {
        "colab": {
          "base_uri": "https://localhost:8080/"
        },
        "id": "YGxSa7q6G60J",
        "outputId": "e50810ea-b67e-471d-e0ff-d3a1a8052033"
      },
      "execution_count": null,
      "outputs": [
        {
          "output_type": "stream",
          "name": "stdout",
          "text": [
            "Digite uma nota: 7\n",
            "Digite uma nota: 3\n",
            "Digite uma nota: 5\n",
            "A media é:1.5\n"
          ]
        }
      ]
    },
    {
      "cell_type": "markdown",
      "source": [
        "Faça um algoritmo que leia as coordenadas de dois pontos, P1 (x1,y1) e P2 (x2,y2)\n",
        "calcule a distanica entre eles"
      ],
      "metadata": {
        "id": "aOprMj0sHm-4"
      }
    },
    {
      "cell_type": "code",
      "source": [
        "import math\n",
        "\n",
        "x1 = float(input(\"Digite o valor de x1: \"))\n",
        "y1 = float(input(\"Digite o valor de y2: \"))\n",
        "x2 = float(input(\"Digite o valor de x2: \"))\n",
        "y2 = float(input(\"Digite o valor de y2: \"))\n",
        "\n",
        "d = math.sqrt(((x2 - x1)**2)+((y2 - y1)**2))\n",
        "print(f\"A distancia é de:{d}\")"
      ],
      "metadata": {
        "colab": {
          "base_uri": "https://localhost:8080/"
        },
        "id": "1-CMHdbUH8Rv",
        "outputId": "0670a948-344b-40e4-be2b-2672fb9beb87"
      },
      "execution_count": null,
      "outputs": [
        {
          "output_type": "stream",
          "name": "stdout",
          "text": [
            "Digite o valor de x1: 2\n",
            "Digite o valor de y2: 2\n",
            "Digite o valor de x2: 4\n",
            "Digite o valor de y2: 4\n",
            "A distancia é de:2.8284271247461903\n"
          ]
        }
      ]
    },
    {
      "cell_type": "markdown",
      "source": [
        "Equações lineares"
      ],
      "metadata": {
        "id": "Ia_0mGkIJlTr"
      }
    },
    {
      "cell_type": "code",
      "source": [
        "a = float(input(\"Digite um valor: \"))\n",
        "b = float(input(\"Digite um valor: \"))\n",
        "c = float(input(\"Digite um valor: \"))\n",
        "d = float(input(\"Digite um valor: \"))\n",
        "e = float(input(\"Digite um valor: \"))\n",
        "f = float(input(\"Digite um valor: \"))\n",
        "\n",
        "x = (c*e) - (b*f) / (a*e) - (b*d)\n",
        "y = (a*f) - (c*d) / (a*e) - (b*d)\n",
        "print(f\"O valor de x é {x}\\nOvalor de y é {y}\")"
      ],
      "metadata": {
        "colab": {
          "base_uri": "https://localhost:8080/"
        },
        "id": "a-LS9uaKJu5d",
        "outputId": "6a4e6a0a-f07e-4d19-b971-46e5f6698280"
      },
      "execution_count": null,
      "outputs": [
        {
          "output_type": "stream",
          "name": "stdout",
          "text": [
            "Digite um valor: 2\n",
            "Digite um valor: 8\n",
            "Digite um valor: 9\n",
            "Digite um valor: 4\n",
            "Digite um valor: 1\n",
            "Digite um valor: 3\n",
            "O valor de x é -35.0\n",
            "Ovalor de y é -44.0\n"
          ]
        }
      ]
    },
    {
      "cell_type": "markdown",
      "source": [
        "\n",
        "O custo ao consumidor de um carro novo é a soma do custo de fábrica com a\n",
        "percentagem do distribuidor e dos impostos (aplicados ao custo de fábrica).\n",
        "Supondo que a percentagem do distribuidor seja de 28% e os impostos de 45%,\n",
        "escrever um algoritmo que leia o custo de fábrica de um carro e escreva o custo ao\n",
        "consumidor."
      ],
      "metadata": {
        "id": "df84OHreL8g4"
      }
    },
    {
      "cell_type": "code",
      "source": [
        "preco = float(input(\"Digite o valor do carro: \"))\n",
        "precoi = preco * 0.45\n",
        "precod = preco * 0.28\n",
        "precof = precoi + preco + precod\n",
        "\n",
        "print(f\"O valor do carro é: {precof}\")"
      ],
      "metadata": {
        "colab": {
          "base_uri": "https://localhost:8080/"
        },
        "id": "Y4jLddPoQ7H-",
        "outputId": "a884b5c1-ef05-4ad6-8232-573c75304ee3"
      },
      "execution_count": null,
      "outputs": [
        {
          "output_type": "stream",
          "name": "stdout",
          "text": [
            "Digite o valor do carro: 12000\n",
            "O valor do carro é: 20760.0\n"
          ]
        }
      ]
    },
    {
      "cell_type": "markdown",
      "source": [
        "Faça um algoritmo que leia a idade de uma pessoa expressa em dias e mostre-a\n",
        "expressa em anos, meses e dias."
      ],
      "metadata": {
        "id": "S0K3BsH3SrtY"
      }
    },
    {
      "cell_type": "code",
      "source": [
        " idade = int(input(\"Digite sua idade em dias: \"))\n",
        " ano = idade // 365\n",
        " mes = (idade % 365) // 30\n",
        " dias = (idade % 365) % 30\n",
        "\n",
        " print(f\"Idade: {ano} anos, {mes} meses e {dias} dias\")"
      ],
      "metadata": {
        "id": "hz1mpuprSu8W",
        "colab": {
          "base_uri": "https://localhost:8080/"
        },
        "outputId": "a9e18e55-3cdb-47c1-e94e-e07731ac93a5"
      },
      "execution_count": 3,
      "outputs": [
        {
          "output_type": "stream",
          "name": "stdout",
          "text": [
            "Digite sua idade em dias: 5000\n",
            "Idade: 13 anos, 8 meses e 15 dias\n"
          ]
        }
      ]
    },
    {
      "cell_type": "markdown",
      "source": [
        "Faça um algoritmo que leia o tempo de duração de um evento em uma fábrica\n",
        "expressa em segundos e mostre-o expresso em horas, minutos e segundos."
      ],
      "metadata": {
        "id": "8upTTffIrcov"
      }
    },
    {
      "cell_type": "code",
      "source": [
        "tempo_evento = float(input(\"Informe o tempo do evento em segundos: \"))\n",
        "horas = tempo_evento // 3600\n",
        "minutos = (tempo_evento % 3600) // 60\n",
        "segundos = (tempo_evento % 3600) % 60\n",
        "\n",
        "print(f\"O evento durou: {horas} horas, {minutos} minutos e {segundos} segundos.\")"
      ],
      "metadata": {
        "id": "0WStSVXyrfSX"
      },
      "execution_count": null,
      "outputs": []
    },
    {
      "cell_type": "markdown",
      "source": [
        "O governador acaba de liberar R$ 1.000.000.000,00 para construção de casas\n",
        "populares. Cada casa custa o equivalente a 90 salários mínimos. Faça um algoritmo\n",
        "que leia o valor do salário mínimo e calcule a quantidade de casas que podem ser\n",
        "construídas com o recurso liberado."
      ],
      "metadata": {
        "id": "nmUuc_oOvpDw"
      }
    },
    {
      "cell_type": "code",
      "source": [
        "sal_minimo = float(input(\"Informe o valor do salário mínimo: \"))\n",
        "casa = sal_minimo * 90\n",
        "total_casas = 1000000000 // casa\n",
        "print(f\"Quantidade de casas que podem ser construídas: {total_casas}\")"
      ],
      "metadata": {
        "id": "cMQmw5b7vr_w"
      },
      "execution_count": null,
      "outputs": []
    }
  ]
}