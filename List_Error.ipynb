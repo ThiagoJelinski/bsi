{
  "nbformat": 4,
  "nbformat_minor": 0,
  "metadata": {
    "colab": {
      "provenance": [],
      "authorship_tag": "ABX9TyPv3xm5x2gAO6mDYVy30DOU",
      "include_colab_link": true
    },
    "kernelspec": {
      "name": "python3",
      "display_name": "Python 3"
    },
    "language_info": {
      "name": "python"
    }
  },
  "cells": [
    {
      "cell_type": "markdown",
      "metadata": {
        "id": "view-in-github",
        "colab_type": "text"
      },
      "source": [
        "<a href=\"https://colab.research.google.com/github/ThiagoJelinski/bsi/blob/master/List_Error.ipynb\" target=\"_parent\"><img src=\"https://colab.research.google.com/assets/colab-badge.svg\" alt=\"Open In Colab\"/></a>"
      ]
    },
    {
      "cell_type": "code",
      "execution_count": null,
      "metadata": {
        "id": "5rfPDkTbgKGM"
      },
      "outputs": [],
      "source": [
        "## Escreva uma função que recebe dois números como argumentos e retorna a divisão do primeiro pelo segundo.\n",
        "## Use um bloco try/except para tratar o caso em que o segundo número é zero e lance uma exceção personalizada com a mensagem \"Divisão por zero não permitida\".\n",
        "\n",
        "a, b = map(int, input().split())\n",
        "\n",
        "try:\n",
        "  print(\"\\nValor da divisão:\", a / b)\n",
        "except ZeroDivisionError:\n",
        "  raise ZeroDivisionError(\"Divisão por zero não permitida\")"
      ]
    },
    {
      "cell_type": "code",
      "source": [
        "## Escreva um programa que solicita ao usuário uma data no formato \"dd/mm/aaaa\" e verifica se ela é válida\n",
        "## Use um bloco try/except para tratar o caso em que o usuário digita uma data inválida e lance uma exceção personalizada com a mensagem “Data inválida”.\n",
        "\n",
        "from datetime import datetime\n",
        "\n",
        "date = input(\"Informe a data no formato dd/mm/aaaa: \")\n",
        "\n",
        "try:\n",
        "  date_selected = datetime.strptime(date, \"%d/%m/%Y\")\n",
        "\n",
        "  print(\"\\nData formatada!\", date_selected)\n",
        "except ValueError:\n",
        "  raise ValueError(\"Data inválida\")"
      ],
      "metadata": {
        "id": "iwJBQ4SpkX_z"
      },
      "execution_count": null,
      "outputs": []
    },
    {
      "cell_type": "code",
      "source": [
        "## Escreva uma função que recebe uma lista de números como argumento e retorna a soma dos elementos da lista.\n",
        "##  Use um bloco try/except para tratar o caso em que a lista contém algum elemento que não é um número e lance uma exceção personalizada com a mensagem “Lista inválida”.\n",
        "\n",
        "try:\n",
        "  list_num = map(int, input().split())\n",
        "\n",
        "  print(\"\\nA soma da lista é\", sum(list_num))\n",
        "except ValueError:\n",
        "  raise ValueError(\"Lista inválida\")"
      ],
      "metadata": {
        "id": "XHehT-FFkYIC"
      },
      "execution_count": null,
      "outputs": []
    },
    {
      "cell_type": "code",
      "source": [
        "##  Escreva um programa que solicita ao usuário um nome de arquivo e tenta abri-lo para leitura\n",
        "## Use um bloco `try/except` para tratar o caso em que o arquivo não existe ou não pode ser aberto e lance uma exceção personalizada com a mensagem “Arquivo inválido”.\n",
        "\n",
        "try:\n",
        "  name_archive = \"arquivo\"\n",
        "\n",
        "  with open(f\"{name_archive}.txt\", \"r\") as archive:\n",
        "    print(\"Conteúdo do arquivo:\\n\\n\", archive.read())\n",
        "\n",
        "except FileNotFoundError:\n",
        "  raise FileNotFoundError(\"Arquivo não encontrado\")"
      ],
      "metadata": {
        "id": "vgqEhHggk3vv"
      },
      "execution_count": null,
      "outputs": []
    },
    {
      "cell_type": "code",
      "source": [
        "## Escreva um código que tente abrir um arquivo com o modo de escrita, porém o arquivo já existe. Se ocorrer uma exceção, imprima uma mensagem de erro.\n",
        "\n",
        "try:\n",
        "  name_archive = \"arquivo\"\n",
        "\n",
        "  with open(f\"{name_archive}.txt\", \"x\") as f:\n",
        "      f.write(\"Conteúdo do arquivo já existente\")\n",
        "\n",
        "except:\n",
        "  raise FileExistsError(\"O arquivo já existe\")\n",
        "else:\n",
        "  print(\"Conteúdo inserido com sucesso\")"
      ],
      "metadata": {
        "id": "Z7VAMWYek3zL"
      },
      "execution_count": null,
      "outputs": []
    },
    {
      "cell_type": "code",
      "source": [
        "## Escreva uma função que recebe um número inteiro positivo como argumento e retorna o fatorial desse número.\n",
        "## Use um bloco try/except para tratar o caso em que o argumento é negativo ou não é um inteiro e lance uma exceção personalizada com a mensagem “Argumento inválido”.\n",
        "\n",
        "from math import factorial\n",
        "\n",
        "num = input(\"Digite um número inteiro: \")\n",
        "\n",
        "try:\n",
        "  fatorial = factorial(int(num))\n",
        "\n",
        "  print(f\"\\nO fatorial de {num} é: \", fatorial)\n",
        "except ValueError:\n",
        "  raise ValueError(\"Argumento inválido\")"
      ],
      "metadata": {
        "id": "seyg6qByk36y"
      },
      "execution_count": null,
      "outputs": []
    },
    {
      "cell_type": "code",
      "source": [
        "## Escreva uma função que recebe uma string como argumento e retorna o número de vogais contidas nessa string.\n",
        "## Use um bloco try/except para tratar o caso em que o argumento não é uma string e lance uma exceção personalizada com a mensagem “Argumento inválido”.\n",
        "\n",
        "import re\n",
        "\n",
        "f = input(\"Escreva uma string: \")\n",
        "f = int(f) if f.isdigit() else f\n",
        "\n",
        "try:\n",
        "  print(\"\\nO número de vogais contidas nessa string é\", re.subn(r\"[aeiou]\", \"\", f)[1])\n",
        "except TypeError:\n",
        "  raise TypeError(\"Argumento inválido\")"
      ],
      "metadata": {
        "id": "jP8F6hR6lv8u"
      },
      "execution_count": null,
      "outputs": []
    },
    {
      "cell_type": "code",
      "source": [
        "## Escreva uma função que recebe uma lista de strings como argumento e retorna uma nova lista com estas strings ordenadas alfabeticamente.\n",
        "## Use um bloco try/except para tratar o caso em que a lista contém algum elemento que não é uma string e lance uma exceção personalizada com a mensagem “Lista inválida”.\n",
        "\n",
        "try:\n",
        "  list_str = sorted(map(lambda i: int(i) if i.isdigit() else i, input(\"Escreva uma lista de strings: \").split()))\n",
        "\n",
        "  print(\"\\nLista ordenada:\", list_str)\n",
        "except TypeError:\n",
        "  raise TypeError(\"Lista inválida\")"
      ],
      "metadata": {
        "id": "smKBCEUclv_u"
      },
      "execution_count": null,
      "outputs": []
    },
    {
      "cell_type": "code",
      "source": [
        "## Escreva um programa que solicite ao usuário um índice e, em seguida, tente acessar um elemento em uma lista. Trate exceções caso o índice esteja fora dos limites da lista.\n",
        "\n",
        "from random import randint\n",
        "\n",
        "array = [randint(0, 10) for _ in range(5)]\n",
        "print(\"Conteúdo da lista:\", array)\n",
        "\n",
        "index = int(input(\"\\nDigite o índice: \"))\n",
        "\n",
        "try:\n",
        "  print(\"\\nItem da lista:\", array[index])\n",
        "except IndexError:\n",
        "  raise IndexError(\"O índice está fora dos limites da lista\")"
      ],
      "metadata": {
        "id": "iKD-S-TolwDT"
      },
      "execution_count": null,
      "outputs": []
    },
    {
      "cell_type": "code",
      "source": [
        "## Peça ao usuário para digitar um número inteiro e, em seguida, tente converter esse número em uma string. Trate a exceção que pode ocorrer.\n",
        "\n",
        "try:\n",
        "  num = int(input(\"Digite um número inteiro: \"))\n",
        "\n",
        "  print(\"\\nO numero foi modificado com sucesso: \", str(num))\n",
        "except ValueError:\n",
        "  raise ValueError(f\"'{num}' não é um valor válido\")"
      ],
      "metadata": {
        "id": "zVApU4lImR-o"
      },
      "execution_count": null,
      "outputs": []
    },
    {
      "cell_type": "code",
      "source": [
        "## Crie um programa que leia as configurações de um arquivo e trate exceções caso o arquivo contenha erros de formatação.\n",
        "\n",
        "content = [\"tipo: PostgreSQL\", \"host: localhost\", \"porta- 2108\", \"usuario: usuario_bd\", \"senha: thiagao1245\", \"nome_banco: meu_banco\"]\n",
        "\n",
        "with open(\"config.yml\", \"w\") as f:\n",
        "  for i in range(6):\n",
        "    f.write(f\"{content[i]}\\n\")"
      ],
      "metadata": {
        "id": "nS4_UNp-mSBR"
      },
      "execution_count": null,
      "outputs": []
    },
    {
      "cell_type": "code",
      "source": [
        "archive = \"config.yml\"\n",
        "\n",
        "try:\n",
        "  with open(archive, \"r\") as f:\n",
        "    rows = f.readlines()\n",
        "\n",
        "    config_dict = {}\n",
        "    for row in rows:\n",
        "      key, value = row.strip().split(\": \")\n",
        "      config_dict[key] = value\n",
        "\n",
        "    print(config_dict)\n",
        "\n",
        "except FileNotFoundError:\n",
        "  raise FileNotFoundError(f\"O arquivo '{file_name}' não foi encontrado\")\n",
        "except ValueError:\n",
        "  raise ValueError(f\"O arquivo '{file_name}' contém erros de formatação\")"
      ],
      "metadata": {
        "id": "litr4cLlmSDq"
      },
      "execution_count": null,
      "outputs": []
    },
    {
      "cell_type": "code",
      "source": [
        "## Peça ao usuário para digitar uma chave e, em seguida, tente acessar um valor em um dicionário. Trate exceções caso a chave não exista.\n",
        "\n",
        "map = {\"a\": 4, \"b\": 2, \"c\": 6, \"d\": 9}\n",
        "\n",
        "f = input(\"Digite a chave: \")\n",
        "\n",
        "try:\n",
        "  print(\"\\nO valor dessa chave é\", map[f])\n",
        "except KeyError:\n",
        "  raise KeyError(f\"A chave '{f}' não existe\")"
      ],
      "metadata": {
        "id": "05ASU22KnJPF"
      },
      "execution_count": null,
      "outputs": []
    },
    {
      "cell_type": "code",
      "source": [
        "## Escreva um programa que trate uma exceção genérica, como Exception, e imprima uma mensagem personalizada.\n",
        "\n",
        "try:\n",
        "  any_error = (0 ** int(\"abc\")) / 0\n",
        "except:\n",
        "  raise Exception(\" Tem algo de errado!\")"
      ],
      "metadata": {
        "id": "k-EPm6fknJRo"
      },
      "execution_count": null,
      "outputs": []
    },
    {
      "cell_type": "code",
      "source": [
        "## Crie um programa que peça ao usuário para digitar uma senha com pelo menos 8 caracteres. Trate exceções caso a senha seja muito curta.\n",
        "\n",
        "password = input(\"Escreva a sua senha: \")\n",
        "\n",
        "try:\n",
        "  password[7]\n",
        "\n",
        "  print(\"\\nA senha escrita esta com o minimo de caracteres\")\n",
        "except IndexError:\n",
        "  raise ValueError(\"Senha muito curta!!!\")"
      ],
      "metadata": {
        "id": "Bb8vQU-KnJb3"
      },
      "execution_count": null,
      "outputs": []
    },
    {
      "cell_type": "code",
      "source": [
        "## Escreva um programa que divida uma lista em partes iguais e trate exceções se o número de partes não for válido.\n",
        "\n",
        "def split_list(lista, num_partes):\n",
        "    if len(lista) % num_partes != 0:\n",
        "        raise ValueError(\"The length of the list must be a multiple of the number of parts\")\n",
        "\n",
        "    parts = [lista[i:i + len(lista)//num_partes] for i in range(0, len(lista), len(lista)//num_partes)]\n",
        "\n",
        "    return parts\n",
        "\n",
        "try:\n",
        "    f = int(input(\"Into how many parts should a list of 10 elements be divided? \"))\n",
        "except ValueError:\n",
        "    raise ValueError(\"Please enter a valid digit\")\n",
        "finally:\n",
        "    print()\n",
        "\n",
        "lista = list(range(1, 11))\n",
        "result = split_list(lista, n)\n",
        "print(result)\n"
      ],
      "metadata": {
        "id": "P3kIJZxnnJfI"
      },
      "execution_count": null,
      "outputs": []
    },
    {
      "cell_type": "code",
      "source": [
        "## Escreva um programa que utilize o bloco else para tratar exceções.\n",
        "\n",
        "try:\n",
        "  print(\"5 + 5\")\n",
        "\n",
        "  soma = 5 + 5\n",
        "except:\n",
        "  raise Exception(\"Math Error!\")\n",
        "else:\n",
        "  print(\"o resultado da soma é: \", soma)"
      ],
      "metadata": {
        "id": "ueTVbyefotU3"
      },
      "execution_count": null,
      "outputs": []
    },
    {
      "cell_type": "code",
      "source": [
        "## Escreva um programa que manipule múltiplas exceções em um bloco try/except.\n",
        "\n",
        "dict_num = {\"2\": 10, \"6\": 62, \"10\": 15}\n",
        "list_values = list(range(5))\n",
        "\n",
        "try:\n",
        "    value = int(input(\"Digite um valor: \"))\n",
        "\n",
        "    if values == 0:\n",
        "        raise ValueError(\"O valor não pode ser 0\")\n",
        "\n",
        "   new_value = 10 // value\n",
        "\n",
        "    new_value_string = str(new_value)\n",
        "\n",
        "    if new_value_string not in dict_num:\n",
        "        raise KeyError(f\"Chave '{new_value_string}' não encontrada no dicionário\")\n",
        "\n",
        "    indice = dict_num[new_value_string]\n",
        "\n",
        "    if indice >= len(list_values):\n",
        "        raise IndexError(\"Erro no índice da lista\")\n",
        "\n",
        "    print(\"O valor final é\", list_values[indice])\n",
        "\n",
        "except ValueError as ve:\n",
        "    print(f\"Erro: {ve}\")\n",
        "except ZeroDivisionError:\n",
        "    print(\"Erro: Não é possível dividir por zero\")\n",
        "except KeyError as ke:\n",
        "    print(f\"Erro: {ke}\")\n",
        "except IndexError as ie:\n",
        "    print(f\"Erro: {ie}\")\n"
      ],
      "metadata": {
        "id": "UiU8em1JotXQ"
      },
      "execution_count": null,
      "outputs": []
    },
    {
      "cell_type": "code",
      "source": [
        "## Escreva um programa que contenha um loop infinito e trate exceções para permitir ao usuário interrompê-lo.\n",
        "\n",
        "while True:\n",
        "  try:\n",
        "    inteiro = int(input(\"Digite zero para sair do Loop: \"))\n",
        "    1 / inteiro\n",
        "\n",
        "  except ValueError:\n",
        "    print(\"Digito invalido\")\n",
        "  except ZeroDivisionError:\n",
        "    print(\"Loop finalizado\")\n",
        "    break\n",
        "  else:\n",
        "    print(\"Try again\")"
      ],
      "metadata": {
        "id": "yStOteatotZw"
      },
      "execution_count": null,
      "outputs": []
    },
    {
      "cell_type": "code",
      "source": [
        "## Crie um programa que trate exceções aninhadas em um bloco try/except\n",
        "\n",
        "try:\n",
        "    try:\n",
        "        int(\"a\")\n",
        "    except ValueError as ve:\n",
        "        print(f\"Um erro de {ve}\")\n",
        "        raise RuntimeError(\"Exceção que será tratada posteriormente\") from ve\n",
        "    finally:\n",
        "        print(\"OK\")\n",
        "except ValueError:\n",
        "    print(\"Não aparecerá o ValueError aqui, pois foi tratado anteriormente\")\n",
        "except RuntimeError as re:\n",
        "    print(f\"Um erro de{re}\")\n"
      ],
      "metadata": {
        "id": "19I_g3Cwp8qk"
      },
      "execution_count": null,
      "outputs": []
    }
  ]
}